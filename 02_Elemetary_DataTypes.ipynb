{
  "nbformat": 4,
  "nbformat_minor": 0,
  "metadata": {
    "colab": {
      "name": "02_Elemetary_DataTypes.ipynb",
      "provenance": [],
      "collapsed_sections": [],
      "include_colab_link": true
    },
    "kernelspec": {
      "name": "python3",
      "display_name": "Python 3.8.7 64-bit (system)"
    },
    "language_info": {
      "codemirror_mode": {
        "name": "ipython",
        "version": 3
      },
      "file_extension": ".py",
      "mimetype": "text/x-python",
      "name": "python",
      "nbconvert_exporter": "python",
      "pygments_lexer": "ipython3",
      "version": "3.8.7"
    },
    "interpreter": {
      "hash": "ef35354d82397584f27d83d421f20ad793cad76ac7a25312cbe586add919b453"
    }
  },
  "cells": [
    {
      "cell_type": "markdown",
      "metadata": {
        "id": "view-in-github",
        "colab_type": "text"
      },
      "source": [
        "<a href=\"https://colab.research.google.com/github/dilshadak/pythonCourse/blob/main/02_Elemetary_DataTypes.ipynb\" target=\"_parent\"><img src=\"https://colab.research.google.com/assets/colab-badge.svg\" alt=\"Open In Colab\"/></a>"
      ]
    },
    {
      "cell_type": "markdown",
      "metadata": {
        "id": "xqQBM2lEaX5j"
      },
      "source": [
        "# Data Types in Python\n",
        "### Our job is to take information from the real world and put it into computer. "
      ]
    },
    {
      "cell_type": "markdown",
      "metadata": {
        "id": "-5DdyvD4aX5m"
      },
      "source": [
        "## Numeric"
      ]
    },
    {
      "cell_type": "code",
      "metadata": {
        "id": "eFk9R1ZxaX5o"
      },
      "source": [
        "#Int (Integer)\n",
        "1\n",
        "10\n",
        "123\n",
        "type(123)"
      ],
      "execution_count": null,
      "outputs": []
    },
    {
      "cell_type": "code",
      "metadata": {
        "id": "Th8x9CcjaX5q"
      },
      "source": [
        "#Float\n",
        "1.234\n",
        "0.0123\n",
        "0.123.123.\n"
      ],
      "execution_count": null,
      "outputs": []
    },
    {
      "cell_type": "code",
      "metadata": {
        "id": "GphIKCR-KeQz"
      },
      "source": [
        "# Complex Numbers\n",
        "1 + 2j\n",
        "0.23 - 0.23j\n",
        "3 + 4i"
      ],
      "execution_count": null,
      "outputs": []
    },
    {
      "cell_type": "markdown",
      "metadata": {
        "id": "7otUaQ_zaX5s"
      },
      "source": [
        "## String"
      ]
    },
    {
      "cell_type": "code",
      "metadata": {
        "id": "mYqMwSTuaX5t"
      },
      "source": [
        "# String\n",
        "hi\n",
        "'hi'\n",
        "'''hi'''\n",
        "\"hi\"\n",
        "\"\"\"hi\"\"\""
      ],
      "execution_count": null,
      "outputs": []
    },
    {
      "cell_type": "markdown",
      "metadata": {
        "id": "XkZQTj_9aX5v"
      },
      "source": [
        "## Boolean"
      ]
    },
    {
      "cell_type": "code",
      "metadata": {
        "id": "WN59wk2-aX5x"
      },
      "source": [
        "#Boolean (True/False)\n",
        "True\n",
        "\n",
        "False\n",
        "\n",
        "true\n",
        "\n",
        "false\n",
        "\n",
        "FALSE\n",
        "\n",
        "TRUE"
      ],
      "execution_count": null,
      "outputs": []
    },
    {
      "cell_type": "markdown",
      "metadata": {
        "id": "imKCKjE2aX5y"
      },
      "source": [
        "## Sequence Type"
      ]
    },
    {
      "cell_type": "code",
      "metadata": {
        "id": "OLk2TKJ4aX5z"
      },
      "source": [
        "# List\n",
        "[]\n",
        "[1,2,3]\n",
        "['a',2,\"b\", True]\n",
        "[1,'a',[2,3,'b'],[2,['a']]]\n",
        "\n",
        "type([])"
      ],
      "execution_count": null,
      "outputs": []
    },
    {
      "cell_type": "code",
      "metadata": {
        "id": "KyYtSYf-aX5z"
      },
      "source": [
        "# tuple\n",
        "()\n",
        "(1)\n",
        "(2,)\n",
        "(1,2)\n",
        "(1,2,3)\n",
        "(1,'a',2)\n",
        "(1,2,(2,3,4))\n",
        "(1,2,'a',[],3)\n"
      ],
      "execution_count": null,
      "outputs": []
    },
    {
      "cell_type": "markdown",
      "metadata": {
        "id": "YSW6yJVDaX50"
      },
      "source": [
        "## Mutable and Immutable"
      ]
    },
    {
      "cell_type": "code",
      "metadata": {
        "id": "xo7q2AlPaX51"
      },
      "source": [
        "# Lists are Mutable\n",
        "x = [1,2]\n",
        "print(x)\n",
        "y = x\n",
        "y.append(3)\n",
        "\n",
        "print(x)\n",
        "print(y)"
      ],
      "execution_count": null,
      "outputs": []
    },
    {
      "cell_type": "markdown",
      "metadata": {
        "id": "wo3glMokaX52"
      },
      "source": [
        "## Key value pairs"
      ]
    },
    {
      "cell_type": "code",
      "metadata": {
        "id": "7gZ-jO3yaX52"
      },
      "source": [
        "# Dictionaries\n",
        "# Valid key value\n",
        "{}\n",
        "{'key':1}\n",
        "{'key':'value'}\n",
        "{True:1, False:3}\n",
        "{1:2}\n",
        "{1.2:2.4}\n",
        "{1:'value'}\n",
        "{'key':[]}\n",
        "{'key':()}\n",
        "{1:'value', 'key':1, 'k':[], 'v':()}\n",
        "{'key':{1:'value'}, 1:[], 2:()}\n",
        "{(1,):2}\n",
        "{(1,2):2}\n",
        "\n",
        "# Invalid keys for dictionary\n",
        "{[]:2}\n",
        "{{}:2}\n",
        "\n",
        "\n"
      ],
      "execution_count": null,
      "outputs": []
    },
    {
      "cell_type": "markdown",
      "metadata": {
        "id": "7_KwoSDKaX53"
      },
      "source": [
        "### Set"
      ]
    },
    {
      "cell_type": "code",
      "metadata": {
        "id": "9jME5491aX53"
      },
      "source": [
        "{1,2,3}\n",
        "{1,2,3,3}\n",
        "{1,'a',{1,2}}\n",
        "{2,'a',[1,2]}"
      ],
      "execution_count": null,
      "outputs": []
    }
  ]
}