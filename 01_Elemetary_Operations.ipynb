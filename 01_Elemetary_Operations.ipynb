{
  "nbformat": 4,
  "nbformat_minor": 0,
  "metadata": {
    "colab": {
      "name": "01_Elemetary_Operations.ipynb",
      "provenance": [],
      "collapsed_sections": [],
      "include_colab_link": true
    },
    "kernelspec": {
      "name": "python3",
      "display_name": "Python 3.8.7 64-bit (system)"
    },
    "language_info": {
      "codemirror_mode": {
        "name": "ipython",
        "version": 3
      },
      "file_extension": ".py",
      "mimetype": "text/x-python",
      "name": "python",
      "nbconvert_exporter": "python",
      "pygments_lexer": "ipython3",
      "version": "3.8.7"
    },
    "interpreter": {
      "hash": "ef35354d82397584f27d83d421f20ad793cad76ac7a25312cbe586add919b453"
    }
  },
  "cells": [
    {
      "cell_type": "markdown",
      "metadata": {
        "id": "view-in-github",
        "colab_type": "text"
      },
      "source": [
        "<a href=\"https://colab.research.google.com/github/dilshadak/pythonCourse/blob/main/01_Elemetary_Operations.ipynb\" target=\"_parent\"><img src=\"https://colab.research.google.com/assets/colab-badge.svg\" alt=\"Open In Colab\"/></a>"
      ]
    },
    {
      "cell_type": "markdown",
      "metadata": {
        "id": "aZgyDZ5EDthB"
      },
      "source": [
        "# Python as Calculator\n",
        "## Line starting with # is comment"
      ]
    },
    {
      "cell_type": "code",
      "metadata": {
        "colab": {
          "base_uri": "https://localhost:8080/"
        },
        "id": "ik1_Kk94Dlf_",
        "outputId": "8af4b925-56c2-4afe-f309-1b1dca5bc144"
      },
      "source": [
        "#Addition\n",
        "2 + 3"
      ],
      "execution_count": null,
      "outputs": [
        {
          "output_type": "execute_result",
          "data": {
            "text/plain": [
              "5"
            ]
          },
          "metadata": {},
          "execution_count": 1
        }
      ]
    },
    {
      "cell_type": "code",
      "metadata": {
        "id": "Sb82JiumEy_R"
      },
      "source": [
        "#Subtraction\n",
        "8 - 2"
      ],
      "execution_count": null,
      "outputs": []
    },
    {
      "cell_type": "code",
      "metadata": {
        "id": "6QBfCfhWE1j6"
      },
      "source": [
        "#Division\n",
        "9 / 2"
      ],
      "execution_count": null,
      "outputs": []
    },
    {
      "cell_type": "code",
      "metadata": {
        "id": "8ORy4-KXE8zq"
      },
      "source": [
        "#Multiplication\n",
        "4 * 6"
      ],
      "execution_count": null,
      "outputs": []
    },
    {
      "cell_type": "code",
      "metadata": {
        "id": "NMnOroEYFALq"
      },
      "source": [
        "# Floor division\n",
        "7 // 3"
      ],
      "execution_count": null,
      "outputs": []
    },
    {
      "cell_type": "code",
      "metadata": {
        "id": "pmXDuiYi8ndR"
      },
      "source": [
        "#Modulus\n",
        "7 % 2"
      ],
      "execution_count": null,
      "outputs": []
    },
    {
      "cell_type": "code",
      "metadata": {
        "id": "UwzXqBRNJhOj"
      },
      "source": [
        "2 + + + 4"
      ],
      "execution_count": null,
      "outputs": []
    },
    {
      "cell_type": "code",
      "metadata": {
        "id": "8dD60evqJlLj"
      },
      "source": [
        "8 - + 2"
      ],
      "execution_count": null,
      "outputs": []
    },
    {
      "cell_type": "code",
      "metadata": {
        "id": "p3DCci6TKajs"
      },
      "source": [
        "8**2"
      ],
      "execution_count": null,
      "outputs": []
    },
    {
      "cell_type": "markdown",
      "metadata": {
        "id": "sU8X7DEdHxua"
      },
      "source": [
        "# Understanding Errors\n",
        "### Python want us to behave in a certain manner, if dont, we stuck"
      ]
    },
    {
      "cell_type": "code",
      "metadata": {
        "id": "mMYy-2UZZ2HD",
        "outputId": "be33a7ac-9398-4c89-ce60-83d3635e4ab3"
      },
      "source": [
        "# Invalid syntax\n",
        "2 +\n",
        "8 - \n",
        "8 -+\n",
        "9 / \n",
        "7///4\n",
        "8***2"
      ],
      "execution_count": null,
      "outputs": [
        {
          "output_type": "error",
          "ename": "SyntaxError",
          "evalue": "invalid syntax (<ipython-input-1-706c286ec1ee>, line 2)",
          "traceback": [
            "\u001b[1;36m  File \u001b[1;32m\"<ipython-input-1-706c286ec1ee>\"\u001b[1;36m, line \u001b[1;32m2\u001b[0m\n\u001b[1;33m    2 +\u001b[0m\n\u001b[1;37m       ^\u001b[0m\n\u001b[1;31mSyntaxError\u001b[0m\u001b[1;31m:\u001b[0m invalid syntax\n"
          ]
        }
      ]
    },
    {
      "cell_type": "code",
      "metadata": {
        "id": "r3CoyqhHIAYL"
      },
      "source": [
        " # Indentation Error\n",
        "  2 + 3"
      ],
      "execution_count": null,
      "outputs": []
    },
    {
      "cell_type": "code",
      "metadata": {
        "id": "HiTizP-KIRl6"
      },
      "source": [
        " # Division by zero\n",
        " 12 / 0"
      ],
      "execution_count": null,
      "outputs": []
    },
    {
      "cell_type": "markdown",
      "metadata": {
        "id": "EUN91wF5Z2HG"
      },
      "source": [
        "# Variables\n",
        "### Python shall remember values with some that we can read and python can remember"
      ]
    },
    {
      "cell_type": "code",
      "metadata": {
        "id": "TMwvT9aNZ2HH"
      },
      "source": [
        "a"
      ],
      "execution_count": null,
      "outputs": []
    },
    {
      "cell_type": "code",
      "metadata": {
        "id": "FsTTcuPzZ2HH",
        "outputId": "43f616b7-88f3-44c3-b049-d9346881dc52"
      },
      "source": [
        "a = 10\n",
        "\n",
        "b = 20\n",
        "\n",
        "c = a + b\n",
        "\n",
        "print(c)\n",
        "\n",
        "a, b = 2, 3\n",
        "\n",
        "print(a, b)\n",
        "\n",
        "a, b = b, a\n",
        "\n",
        "print(a, b)"
      ],
      "execution_count": null,
      "outputs": [
        {
          "output_type": "stream",
          "name": "stdout",
          "text": [
            "30\n",
            "2 3\n",
            "3 2\n"
          ]
        }
      ]
    },
    {
      "cell_type": "markdown",
      "metadata": {
        "id": "Vw46yNbqZ2HI"
      },
      "source": [
        "### Variable Names"
      ]
    },
    {
      "cell_type": "code",
      "metadata": {
        "id": "y2Ma21ikZ2HI",
        "outputId": "9a4d3563-4f25-4821-a37d-c22687ae1c66"
      },
      "source": [
        "# a = 1\n",
        "# _a = 2\n",
        "# __a = 3\n",
        "____x = 3\n",
        "____x\n",
        "# _ = 4\n",
        "# -a = 5\n",
        "# +a = 6\n",
        "# @a = 3\n",
        "# %a \n",
        "# ^a\n",
        "1x =3\n",
        "# x1 = 3"
      ],
      "execution_count": null,
      "outputs": [
        {
          "output_type": "error",
          "ename": "SyntaxError",
          "evalue": "invalid syntax (<ipython-input-2-8a18259ca9c9>, line 12)",
          "traceback": [
            "\u001b[1;36m  File \u001b[1;32m\"<ipython-input-2-8a18259ca9c9>\"\u001b[1;36m, line \u001b[1;32m12\u001b[0m\n\u001b[1;33m    1x =3\u001b[0m\n\u001b[1;37m     ^\u001b[0m\n\u001b[1;31mSyntaxError\u001b[0m\u001b[1;31m:\u001b[0m invalid syntax\n"
          ]
        }
      ]
    },
    {
      "cell_type": "markdown",
      "metadata": {
        "id": "VO531L73Z2HJ"
      },
      "source": [
        "### Assignment operators"
      ]
    },
    {
      "cell_type": "code",
      "metadata": {
        "id": "CYRYdPnuZ2HJ",
        "outputId": "3190d56c-c386-4b47-e6a0-4f31289fd2a1"
      },
      "source": [
        "x = 5\n",
        "x = x + 3\n",
        "x +=3\n",
        "\n",
        "x -=3\n",
        "\n",
        "x *=3\n",
        "\n",
        "x /=3\n",
        "\n",
        "x %=3\n",
        "\n",
        "x //3=3\n",
        "\n",
        "x **=3\n"
      ],
      "execution_count": null,
      "outputs": [
        {
          "output_type": "error",
          "ename": "SyntaxError",
          "evalue": "cannot assign to operator (<ipython-input-1-82a7faf9448e>, line 13)",
          "traceback": [
            "\u001b[1;36m  File \u001b[1;32m\"<ipython-input-1-82a7faf9448e>\"\u001b[1;36m, line \u001b[1;32m13\u001b[0m\n\u001b[1;33m    x //3=3\u001b[0m\n\u001b[1;37m    ^\u001b[0m\n\u001b[1;31mSyntaxError\u001b[0m\u001b[1;31m:\u001b[0m cannot assign to operator\n"
          ]
        }
      ]
    },
    {
      "cell_type": "markdown",
      "metadata": {
        "id": "zN2EZyP6Z2HK"
      },
      "source": [
        "### Printing on terminal"
      ]
    },
    {
      "cell_type": "code",
      "metadata": {
        "id": "fykQHk8YZ2HK",
        "outputId": "fd3d9c04-a877-466c-a08e-6069fdede4d4"
      },
      "source": [
        "print('Hello')"
      ],
      "execution_count": null,
      "outputs": [
        {
          "output_type": "stream",
          "name": "stdout",
          "text": [
            "Hello\n"
          ]
        }
      ]
    },
    {
      "cell_type": "code",
      "metadata": {
        "id": "TL2FUEVwZ2HL"
      },
      "source": [
        ""
      ],
      "execution_count": null,
      "outputs": []
    }
  ]
}