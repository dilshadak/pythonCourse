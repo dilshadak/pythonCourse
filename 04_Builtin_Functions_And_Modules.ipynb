{
 "cells": [
  {
   "cell_type": "markdown",
   "source": [
    "# Machines are great at doing repetative tasks\n",
    "### Python Functions"
   ],
   "metadata": {}
  },
  {
   "cell_type": "code",
   "execution_count": 2,
   "source": [
    "# A greet function\r\n",
    "def greet(name):\r\n",
    "    msg = 'Hello ' + name\r\n",
    "    print(msg)\r\n",
    "\r\n",
    "# Calling a function\r\n",
    "\r\n",
    "print(greet)\r\n",
    "print(greet('Dilshad'))\r\n",
    "\r\n",
    "\r\n",
    "greet('Dilshad Ahmad')\r\n",
    "greet('All')\r\n",
    "\r\n",
    "\r\n",
    "#Simplest function\r\n",
    "def func():\r\n",
    "    pass\r\n",
    "\r\n",
    "print(func)\r\n",
    "print(func())\r\n",
    "print(func())\r\n",
    "\r\n",
    "# Function returns a value\r\n",
    "def func_ret():\r\n",
    "    return 'from func_ret'\r\n",
    "\r\n",
    "# Assign return value to a variable\r\n",
    "ret_val = func_ret()\r\n",
    "print(ret_val)\r\n",
    "\r\n",
    "\r\n",
    "\r\n",
    "# Function can be assigned to another variable\r\n",
    "my_greet = greet\r\n",
    "my_greet('Every one')\r\n",
    "\r\n"
   ],
   "outputs": [
    {
     "output_type": "stream",
     "name": "stdout",
     "text": [
      "<function greet at 0x00000196D1409D30>\n",
      "Hello Dilshad\n",
      "None\n",
      "Hello Dilshad Ahmad\n",
      "Hello All\n",
      "<function func at 0x00000196D1409550>\n",
      "None\n",
      "None\n",
      "from func_ret\n",
      "Hello Every one\n"
     ]
    }
   ],
   "metadata": {}
  },
  {
   "cell_type": "code",
   "execution_count": 2,
   "source": [
    "# A simple class\r\n",
    "class ClassRoom:\r\n",
    "    pass\r\n",
    "\r\n",
    "# ClassRoom object\r\n",
    "class_room = ClassRoom()\r\n",
    "print(type(class_room))\r\n",
    "\r\n",
    "class greet:\r\n",
    "    def dogreet(self, name):\r\n",
    "        print('Hello', name)\r\n",
    "\r\n",
    "g = greet()\r\n",
    "g.dogreet('Dilshad')"
   ],
   "outputs": [
    {
     "output_type": "stream",
     "name": "stdout",
     "text": [
      "<class '__main__.ClassRoom'>\n",
      "Hello Dilshad\n"
     ]
    }
   ],
   "metadata": {}
  },
  {
   "cell_type": "markdown",
   "source": [
    "# Python Modules\n",
    "### Modules can hold number of classes, functions"
   ],
   "metadata": {}
  },
  {
   "cell_type": "code",
   "execution_count": null,
   "source": [
    "def add(a, b):\r\n",
    "\r\n",
    "    \"\"\"This program adds two\r\n",
    "    numbers and return the result\"\"\"\r\n",
    "    \r\n",
    "    result = a + b\r\n",
    "    return result\r\n",
    "\r\n",
    "# Save this function in a file as 'example.py'"
   ],
   "outputs": [],
   "metadata": {}
  },
  {
   "cell_type": "code",
   "execution_count": null,
   "source": [
    "# Using this file as module\r\n",
    "\r\n",
    "# import example\r\n",
    "import example as ex\r\n",
    "# from example import *    # Import every thing\r\n",
    "# from example import add  # Import fucntion add only\r\n",
    "\r\n",
    "help (ex)\r\n",
    "# help(ex.add)\r\n",
    "# ex.add(1 , 2)"
   ],
   "outputs": [],
   "metadata": {}
  },
  {
   "cell_type": "markdown",
   "source": [
    "### Python Builtin Class and Function"
   ],
   "metadata": {}
  },
  {
   "cell_type": "code",
   "execution_count": null,
   "source": [
    "import builtins\r\n",
    "func_list = dir(builtins)\r\n",
    "\r\n",
    "print('Totoal: ', len(func_list))\r\n",
    "\r\n",
    "for func in func_list:\r\n",
    "    print(func, end = ', ')"
   ],
   "outputs": [],
   "metadata": {}
  },
  {
   "cell_type": "code",
   "execution_count": null,
   "source": [
    "# Class documentation\r\n",
    "\r\n",
    "help(SyntaxError)\r\n",
    "# print(__name__)"
   ],
   "outputs": [],
   "metadata": {}
  },
  {
   "cell_type": "code",
   "execution_count": null,
   "source": [
    "# Function documentation\r\n",
    "help(open)\r\n",
    "help(print)\r\n",
    "print(1,2,3)\r\n",
    "print(4,5,6,sep=',', end = ':')\r\n",
    "print(4,5,6,sep='-')\r\n",
    "print(4,5,6,sep='-', file=open('out.txt','w'))"
   ],
   "outputs": [],
   "metadata": {}
  },
  {
   "cell_type": "markdown",
   "source": [
    "### Python Builtin Modules"
   ],
   "metadata": {}
  },
  {
   "cell_type": "code",
   "execution_count": null,
   "source": [
    "# Python - Built-in Modules\r\n",
    "\r\n",
    "help('modules')"
   ],
   "outputs": [],
   "metadata": {}
  },
  {
   "cell_type": "code",
   "execution_count": null,
   "source": [
    "# os module: automatically perform many operating system tasks\r\n",
    "import os\r\n",
    "os.getcwd() # Calling method of a class\r\n",
    "os.listdir()"
   ],
   "outputs": [],
   "metadata": {}
  },
  {
   "cell_type": "code",
   "execution_count": null,
   "source": [
    "# The sys module provides functions and variables used to manipulate different parts of the Python runtime environment\r\n",
    "import sys\r\n",
    "sys.maxsize\r\n",
    "sys.path"
   ],
   "outputs": [],
   "metadata": {}
  },
  {
   "cell_type": "markdown",
   "source": [
    "## Guess The Number Game"
   ],
   "metadata": {}
  },
  {
   "cell_type": "code",
   "execution_count": null,
   "source": [
    "from random import randint\r\n",
    "\r\n",
    "instructions = '''Rules: \r\n",
    "1. This game is about guessing number between 1 and 99\r\n",
    "2. Use hint message and type your number\r\n",
    "3. If you guess the correct number in 5 tries then you are the winner\r\n",
    "4. If you can not guess the number in 5 tries then computer shall be the winner\r\n",
    "5. Type 'Exit' to quit the game at any time.\r\n",
    "'''\r\n",
    "print(instructions)\r\n",
    "\r\n",
    "number = randint(1,100)\r\n",
    "for _ in range(5):\r\n",
    "    guess = int(input('Enter your guess: '))\r\n",
    "    \r\n",
    "    if guess < number:\r\n",
    "        print('Your guess is smaller than the number')\r\n",
    "        \r\n",
    "    elif guess > number:\r\n",
    "        print('Your guess is greater than the number')\r\n",
    "        \r\n",
    "    elif guess == number:\r\n",
    "        print('Your guessed it right You Won!')\r\n",
    "        \r\n",
    "        break\r\n",
    "else:\r\n",
    "    print(f'You exceeded 5 tries, Number is {number} You Lost :(')\r\n",
    "    "
   ],
   "outputs": [],
   "metadata": {}
  },
  {
   "cell_type": "markdown",
   "source": [
    "###### "
   ],
   "metadata": {}
  }
 ],
 "metadata": {
  "kernelspec": {
   "name": "python3",
   "display_name": "Python 3.8.7 64-bit (system)"
  },
  "language_info": {
   "codemirror_mode": {
    "name": "ipython",
    "version": 3
   },
   "file_extension": ".py",
   "mimetype": "text/x-python",
   "name": "python",
   "nbconvert_exporter": "python",
   "pygments_lexer": "ipython3",
   "version": "3.8.7"
  },
  "interpreter": {
   "hash": "ef35354d82397584f27d83d421f20ad793cad76ac7a25312cbe586add919b453"
  }
 },
 "nbformat": 4,
 "nbformat_minor": 5
}