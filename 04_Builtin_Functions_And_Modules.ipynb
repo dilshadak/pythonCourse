{
  "nbformat": 4,
  "nbformat_minor": 5,
  "metadata": {
    "kernelspec": {
      "name": "python3",
      "display_name": "Python 3.8.7 64-bit (system)"
    },
    "language_info": {
      "codemirror_mode": {
        "name": "ipython",
        "version": 3
      },
      "file_extension": ".py",
      "mimetype": "text/x-python",
      "name": "python",
      "nbconvert_exporter": "python",
      "pygments_lexer": "ipython3",
      "version": "3.8.7"
    },
    "interpreter": {
      "hash": "ef35354d82397584f27d83d421f20ad793cad76ac7a25312cbe586add919b453"
    },
    "colab": {
      "name": "04_Builtin_Functions_And_Modules.ipynb",
      "provenance": [],
      "include_colab_link": true
    }
  },
  "cells": [
    {
      "cell_type": "markdown",
      "metadata": {
        "id": "view-in-github",
        "colab_type": "text"
      },
      "source": [
        "<a href=\"https://colab.research.google.com/github/dilshadak/pythonCourse/blob/main/04_Builtin_Functions_And_Modules.ipynb\" target=\"_parent\"><img src=\"https://colab.research.google.com/assets/colab-badge.svg\" alt=\"Open In Colab\"/></a>"
      ]
    },
    {
      "cell_type": "markdown",
      "metadata": {
        "id": "IXGHq8N-bKdI"
      },
      "source": [
        "# Machines are great at doing repetative tasks\n",
        "### Python Functions"
      ],
      "id": "IXGHq8N-bKdI"
    },
    {
      "cell_type": "code",
      "metadata": {
        "id": "Ed7XGikCbKdN"
      },
      "source": [
        "# A greet function\n",
        "\n",
        "def greet(name):\n",
        "    msg = 'Hello ' + name\n",
        "    print(msg)\n",
        "\n",
        "# Calling a function\n",
        "\n",
        "print(greet)\n",
        "print(greet('Dilshad'))\n",
        "\n",
        "\n",
        "greet('Dilshad Ahmad')\n",
        "greet('All')\n",
        "\n",
        "\n",
        "#Simplest function\n",
        "\n",
        "def func():\n",
        "    pass\n",
        "\n",
        "print(func)\n",
        "print(func())\n",
        "print(func())\n",
        "\n",
        "# Function returns a value\n",
        "\n",
        "def func_ret():\n",
        "    return 'from func_ret'\n",
        "\n",
        "# Assign return value to a variable\n",
        "\n",
        "ret_val = func_ret()\n",
        "print(ret_val)\n",
        "\n",
        "# Function can be assigned to another variable\n",
        "\n",
        "my_greet = greet\n",
        "my_greet('Every one')"
      ],
      "id": "Ed7XGikCbKdN",
      "execution_count": null,
      "outputs": []
    },
    {
      "cell_type": "code",
      "metadata": {
        "id": "Zkkvpj93bKdQ"
      },
      "source": [
        "# A simple class\n",
        "class ClassRoom:\n",
        "    pass\n",
        "\n",
        "# ClassRoom object\n",
        "class_room = ClassRoom()\n",
        "print(type(class_room))\n",
        "\n",
        "# Class with Method (Function)\n",
        "class Greet: \n",
        "    def dogreet(self, name):\n",
        "        print('Hello', name)\n",
        "\n",
        "g = Greet()\n",
        "g.dogreet('Dilshad')"
      ],
      "id": "Zkkvpj93bKdQ",
      "execution_count": null,
      "outputs": []
    },
    {
      "cell_type": "markdown",
      "metadata": {
        "id": "93yMwmSRbKdR"
      },
      "source": [
        "# Python Modules\n",
        "### Modules can hold number of classes, functions"
      ],
      "id": "93yMwmSRbKdR"
    },
    {
      "cell_type": "code",
      "metadata": {
        "id": "ZL2TF6oKbKdS"
      },
      "source": [
        "def add(a, b):\n",
        "\n",
        "    '''This program adds two\n",
        "    numbers and return the result\n",
        "\n",
        "    -----------\n",
        "    Usage\n",
        "    -----------\n",
        "    \n",
        "    add(a, b) -> a + b\n",
        "    a, b: Number\n",
        "    '''\n",
        "    \n",
        "    result = a + b\n",
        "    return result\n",
        "\n",
        "# Save this function in a file as 'example.py'"
      ],
      "id": "ZL2TF6oKbKdS",
      "execution_count": null,
      "outputs": []
    },
    {
      "cell_type": "code",
      "metadata": {
        "id": "tGkO2buQbKdT"
      },
      "source": [
        "# Using this file as module\n",
        "\n",
        "# import example\n",
        "import example as ex\n",
        "# from example import *    # Import every thing\n",
        "# from example import add  # Import fucntion add only\n",
        "\n",
        "help (ex)\n",
        "# help(ex.add)\n",
        "# ex.add(1 , 2)"
      ],
      "id": "tGkO2buQbKdT",
      "execution_count": null,
      "outputs": []
    },
    {
      "cell_type": "markdown",
      "metadata": {
        "id": "y1fSrvwzbKdU"
      },
      "source": [
        "### Python Builtin Class and Function"
      ],
      "id": "y1fSrvwzbKdU"
    },
    {
      "cell_type": "code",
      "metadata": {
        "id": "u2IqkR9KbKdV"
      },
      "source": [
        "import builtins\n",
        "func_list = dir(builtins)\n",
        "\n",
        "print('Totoal: ', len(func_list))\n",
        "\n",
        "for func in func_list:\n",
        "    print(func, end = ', ')"
      ],
      "id": "u2IqkR9KbKdV",
      "execution_count": null,
      "outputs": []
    },
    {
      "cell_type": "code",
      "metadata": {
        "id": "2Aj5NWSXbKdW"
      },
      "source": [
        "# Class documentation\n",
        "\n",
        "help(SyntaxError)\n",
        "# print(__name__)"
      ],
      "id": "2Aj5NWSXbKdW",
      "execution_count": null,
      "outputs": []
    },
    {
      "cell_type": "code",
      "metadata": {
        "id": "qGEPKGJvbKdX"
      },
      "source": [
        "# Function documentation\n",
        "help(open)\n",
        "help(print)\n",
        "print(1,2,3)\n",
        "print(4,5,6,sep=',', end = ':')\n",
        "print(4,5,6,sep='-')\n",
        "print(4,5,6,sep='-', file=open('out.txt','w'))"
      ],
      "id": "qGEPKGJvbKdX",
      "execution_count": null,
      "outputs": []
    },
    {
      "cell_type": "markdown",
      "metadata": {
        "id": "bq9CGt_LbKdY"
      },
      "source": [
        "### Python Builtin Modules"
      ],
      "id": "bq9CGt_LbKdY"
    },
    {
      "cell_type": "code",
      "metadata": {
        "id": "0cz8XpvGbKdY"
      },
      "source": [
        "# Python - Built-in Modules\n",
        "\n",
        "help('modules')"
      ],
      "id": "0cz8XpvGbKdY",
      "execution_count": null,
      "outputs": []
    },
    {
      "cell_type": "code",
      "metadata": {
        "id": "uWhIlVuGbKdZ"
      },
      "source": [
        "# os module: automatically perform many operating system tasks\n",
        "import os\n",
        "os.getcwd() # Calling method of a class\n",
        "os.listdir()"
      ],
      "id": "uWhIlVuGbKdZ",
      "execution_count": null,
      "outputs": []
    },
    {
      "cell_type": "code",
      "metadata": {
        "id": "m6gF68jWbKdZ"
      },
      "source": [
        "# The sys module provides functions and variables used to manipulate different parts of the Python runtime environment\n",
        "import sys\n",
        "sys.maxsize\n",
        "sys.path"
      ],
      "id": "m6gF68jWbKdZ",
      "execution_count": null,
      "outputs": []
    },
    {
      "cell_type": "markdown",
      "metadata": {
        "id": "tOf2XwQXbKda"
      },
      "source": [
        "## Guess The Number Game"
      ],
      "id": "tOf2XwQXbKda"
    },
    {
      "cell_type": "code",
      "metadata": {
        "id": "Dvgd0MfqbKda"
      },
      "source": [
        "from random import randint\n",
        "\n",
        "instructions = '''Rules: \n",
        "1. This game is about guessing number between 1 and 99\n",
        "2. Use hint message and type your number\n",
        "3. If you guess the correct number in 5 tries then you are the winner\n",
        "4. If you can not guess the number in 5 tries then computer shall be the winner\n",
        "5. Type 'Exit' to quit the game at any time.\n",
        "'''\n",
        "print(instructions)\n",
        "\n",
        "number = randint(1,100)\n",
        "for _ in range(5):\n",
        "    guess = int(input('Enter your guess: '))\n",
        "    \n",
        "    if guess < number:\n",
        "        print('Your guess is smaller than the number')\n",
        "        \n",
        "    elif guess > number:\n",
        "        print('Your guess is greater than the number')\n",
        "        \n",
        "    elif guess == number:\n",
        "        print('Your guessed it right You Won!')\n",
        "        \n",
        "        break\n",
        "else:\n",
        "    print(f'You exceeded 5 tries, Number is {number} You Lost :(')\n",
        "    "
      ],
      "id": "Dvgd0MfqbKda",
      "execution_count": null,
      "outputs": []
    }
  ]
}