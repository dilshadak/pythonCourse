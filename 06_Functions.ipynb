{
 "cells": [
  {
   "cell_type": "markdown",
   "source": [
    "# Functions\r\n",
    "## Defining a Function"
   ],
   "metadata": {}
  },
  {
   "cell_type": "code",
   "execution_count": null,
   "source": [
    "# Simplest Function\r\n",
    "\r\n",
    "def func():\r\n",
    "    pass\r\n"
   ],
   "outputs": [],
   "metadata": {}
  },
  {
   "cell_type": "code",
   "execution_count": null,
   "source": [
    "func()\r\n",
    "\r\n",
    "# print(func())\r\n",
    "# help(func)\r\n",
    "# print(dir(func))\r\n",
    "x = func\r\n",
    "y = func\r\n",
    "\r\n",
    "# print(x.__name__)\r\n",
    "print(x.__class__)\r\n",
    "x == y"
   ],
   "outputs": [],
   "metadata": {}
  },
  {
   "cell_type": "code",
   "execution_count": null,
   "source": [
    "# Function that prints Hello\r\n",
    "\r\n",
    "def printHello():\r\n",
    "    print('Hello')\r\n",
    "    \r\n",
    "printHello()"
   ],
   "outputs": [],
   "metadata": {}
  },
  {
   "cell_type": "code",
   "execution_count": null,
   "source": [
    "# Function that Returns a value\r\n",
    "\r\n",
    "def retval():\r\n",
    "    return 'Returend Value'\r\n",
    "\r\n",
    "rv =  retval()\r\n",
    "help(retval)\r\n"
   ],
   "outputs": [],
   "metadata": {}
  },
  {
   "cell_type": "code",
   "execution_count": null,
   "source": [
    "# Returning more than one value\r\n",
    "\r\n",
    "def func():\r\n",
    "    return 2, 3\r\n",
    "\r\n",
    "x = func()\r\n",
    "a, b = func()\r\n",
    "print(x)\r\n",
    "print(type(x))\r\n",
    "print(a, b)"
   ],
   "outputs": [],
   "metadata": {}
  },
  {
   "cell_type": "code",
   "execution_count": null,
   "source": [
    "# Unpacking values\r\n",
    "\r\n",
    "a, *b, c = [1, 2, 3, 4]\r\n",
    "x, *y, z = (4, 5, 6, 7)\r\n",
    "u, v, *w = {2, 3, 4, 5}\r\n",
    "dic = {'a':1, 'b':2}\r\n",
    "m, n = dic.values()\r\n",
    "\r\n",
    "\r\n",
    "print(a, b, c)\r\n",
    "print(x, y, z)\r\n",
    "print(u, v, w)\r\n",
    "\r\n",
    "print(m, n)\r\n"
   ],
   "outputs": [],
   "metadata": {}
  },
  {
   "cell_type": "code",
   "execution_count": null,
   "source": [
    "# Function with Argument\r\n",
    "\r\n",
    "def nextVal(x):\r\n",
    "    return x + 1\r\n",
    "\r\n",
    "\r\n",
    "# nextVal(3)\r\n",
    "help(nextVal)"
   ],
   "outputs": [],
   "metadata": {}
  },
  {
   "cell_type": "code",
   "execution_count": null,
   "source": [
    "# Function with doc string\r\n",
    "\r\n",
    "# This function adds two numbers\r\n",
    "def add(a, b):\r\n",
    "    '''\r\n",
    "    This function adds two number\r\n",
    "    \r\n",
    "    -----------------\r\n",
    "    Usage:\r\n",
    "\r\n",
    "    add(a, b) -> a + b\r\n",
    "    \r\n",
    "    Arguments a, b can be numbers, string, or list\r\n",
    "    '''\r\n",
    "    return a + b\r\n",
    "\r\n",
    "# add(2,3)\r\n",
    "# add('Dilshad', 'Khan')\r\n",
    "# add([1,2], [3,4])\r\n",
    "\r\n",
    "help(add)"
   ],
   "outputs": [],
   "metadata": {}
  },
  {
   "cell_type": "markdown",
   "source": [
    "## Function Arguments"
   ],
   "metadata": {}
  },
  {
   "cell_type": "code",
   "execution_count": null,
   "source": [
    "# Mandatory Argument\r\n",
    "\r\n",
    "def greet(name):\r\n",
    "    return f'Hello {name}'\r\n",
    "\r\n",
    "# greet()\r\n",
    "greet('Dear')"
   ],
   "outputs": [],
   "metadata": {}
  },
  {
   "cell_type": "code",
   "execution_count": null,
   "source": [
    "# Default Arguments\r\n",
    "\r\n",
    "def greet(name = 'World'):\r\n",
    "    return f'Hello {name}'\r\n",
    "\r\n",
    "greet()\r\n",
    "greet('All')"
   ],
   "outputs": [],
   "metadata": {}
  },
  {
   "cell_type": "code",
   "execution_count": null,
   "source": [
    "# Default and Mandatory arguments\r\n",
    "\r\n",
    "def greet(name, initial = 'Mr.' ):\r\n",
    "    print(f'Hello {initial} {name}')\r\n",
    "    \r\n",
    "greet('Dilshad')"
   ],
   "outputs": [],
   "metadata": {}
  },
  {
   "cell_type": "code",
   "execution_count": null,
   "source": [
    "# Default argument is followed by Mandatory argument\r\n",
    "\r\n",
    "def greet(initial = 'Mr.', name):\r\n",
    "    print(f'Hello {initial} {name}')\r\n",
    "    \r\n",
    "greet('Dilshad')"
   ],
   "outputs": [],
   "metadata": {}
  },
  {
   "cell_type": "code",
   "execution_count": null,
   "source": [
    "# Variable-length (optional) Arguments (*args)\r\n",
    "\r\n",
    "def sumnumber(*args):\r\n",
    "    x = 0\r\n",
    "    for i in args:\r\n",
    "        x = x + i\r\n",
    "    return x\r\n",
    "\r\n",
    "# sumnumber()\r\n",
    "# sumnumber(1, 2)\r\n",
    "sumnumber(1, 2, 3)"
   ],
   "outputs": [],
   "metadata": {}
  },
  {
   "cell_type": "code",
   "execution_count": null,
   "source": [
    "# Optional argument with mandatory argument\r\n",
    "\r\n",
    "def funcarg(a, *args, b):\r\n",
    "    print(f'a: {a}, args: {args}, b:{b}')\r\n",
    "\r\n",
    "# funcarg()\r\n",
    "# funcarg(1)\r\n",
    "# funcarg(1, 2, 3)\r\n",
    "# funcarg(1, 2, b=3)\r\n",
    "x = [ 1, 2, 3, 4]\r\n",
    "funcarg(0, *x, b = 5)\r\n",
    "# funcarg(0, x, b = 5)\r\n",
    "y = (2,3,4)\r\n",
    "funcarg(0, *y, b = 5)\r\n"
   ],
   "outputs": [],
   "metadata": {}
  },
  {
   "cell_type": "code",
   "execution_count": null,
   "source": [
    "# Keyword arguments(**kwargs)\r\n",
    "\r\n",
    "def fullName(**kwargs):\r\n",
    "    first = kwargs['first']\r\n",
    "    last = kwargs['last']\r\n",
    "    return f'{first} {last}'\r\n",
    "\r\n",
    "fname = fullName(first='Dilshad', last='Khan')\r\n",
    "print(fname)\r\n",
    "\r\n",
    "v_card = {'first' : 'Dilshad', 'last' : 'Khan'}\r\n",
    "fname = fullName(**v_card)\r\n",
    "print(fname)\r\n",
    "\r\n",
    "v_card2 = dict(first = 'Dilshad', last = 'Khan')\r\n",
    "print(fullName(**v_card2))\r\n",
    "\r\n",
    "# Problem with Optional Argument and Keyword Arguments\r\n",
    "# No idea of names of keys"
   ],
   "outputs": [],
   "metadata": {}
  },
  {
   "cell_type": "code",
   "execution_count": null,
   "source": [
    "# Order of arguments\r\n",
    "\r\n",
    "def function(x, y=1, *args, **kwargs):\r\n",
    "    return f'x={x}, y={y}, args = {args}, kwargs={kwargs}'\r\n",
    "\r\n",
    "arg_order = function(3,4,2,3,4,**{'a':2})\r\n",
    "\r\n",
    "print(arg_order)"
   ],
   "outputs": [],
   "metadata": {}
  },
  {
   "cell_type": "markdown",
   "source": [
    "## Special Functions"
   ],
   "metadata": {}
  },
  {
   "cell_type": "code",
   "execution_count": null,
   "source": [
    "# Constructors and Magic Methods in Python\r\n",
    "\r\n",
    "class Vector:\r\n",
    "    '''\r\n",
    "    Class of vectors for addition, subtraction and dot products\r\n",
    "    between two vectors.\r\n",
    "    '''\r\n",
    "    # Called when object is created\r\n",
    "    def __init__(self, x, y, z):\r\n",
    "        self.x = x\r\n",
    "        self.y = y\r\n",
    "        self.z = z\r\n",
    "        self.mag = (x**2 + y**2 + z**2)**0.5\r\n",
    "    \r\n",
    "    # Called when object is printed\r\n",
    "    def __str__(self): \r\n",
    "        return f'({self.x}, {self.y}, {self.z})'\r\n",
    "    \r\n",
    "    # Called when object is followed by a \"+\" sign\r\n",
    "    def __add__(self, other): # +\r\n",
    "        return Vector(self.x + other.x, self.y + other.y, self.z + other.z)\r\n",
    "    \r\n",
    "    # Called when object is followed by a \"-\" sign\r\n",
    "    def __sub__(self, other): # -\r\n",
    "        return Vector(self.x - other.x, self.y - other.y, self.z - other.z)\r\n",
    "\r\n",
    "    # Called when object is followed by a \"*\" sign\r\n",
    "    def __mul__(self, other): # *\r\n",
    "        return self.x * other.x + self.y * other.y + + self.z * other.z\r\n",
    "\r\n",
    "    # Called when object is followed by a \"==\" sign\r\n",
    "    def __eq__(self, other):\r\n",
    "        return self.x == other.x and self.y == other.y and self.z == other.z\r\n",
    "    \r\n",
    "    # Called when object is followed by a \"!=\" sign\r\n",
    "    def __ne__(self, other):\r\n",
    "        return self.x != other.x or self.y != other.y or self.z != other.z\r\n"
   ],
   "outputs": [],
   "metadata": {}
  },
  {
   "cell_type": "code",
   "execution_count": null,
   "source": [
    "v1 = Vector(2, 10, 1)\r\n",
    "v2 = Vector(5, -2, 1)\r\n",
    "v3 = Vector(3, 7, 1)\r\n",
    "\r\n",
    "print(v1)\r\n",
    "print(v1.mag)\r\n",
    "print(v1 + v2)\r\n",
    "print(v1 - v2)\r\n",
    "# print(v1 + v2 + v3)\r\n",
    "print(v1*v2)\r\n",
    "print(v1 == v2)\r\n",
    "print(v1 != v2)"
   ],
   "outputs": [],
   "metadata": {}
  },
  {
   "cell_type": "code",
   "execution_count": null,
   "source": [
    "# Function in list comprehension\r\n",
    "\r\n",
    "def degree2Kelvin(T):\r\n",
    "    return T + 273.15\r\n",
    "\r\n",
    "print(degree2Kelvin(0))\r\n",
    "\r\n",
    "T_list = [0,1,2,3,4,5,6]\r\n",
    "\r\n",
    "T_K_list = [degree2Kelvin(i) for i in T_list]\r\n",
    "\r\n",
    "print(T_K_list)"
   ],
   "outputs": [],
   "metadata": {}
  },
  {
   "cell_type": "markdown",
   "source": [
    "## Variable Scopes"
   ],
   "metadata": {}
  },
  {
   "cell_type": "code",
   "execution_count": null,
   "source": [
    "x = 10\r\n",
    "\r\n",
    "def func():\r\n",
    "    global x\r\n",
    "    return x\r\n",
    "\r\n",
    "print(func())\r\n",
    "\r\n",
    "x = 20\r\n",
    "\r\n",
    "print(func())"
   ],
   "outputs": [],
   "metadata": {}
  },
  {
   "cell_type": "markdown",
   "source": [
    "## Lambda Function (Anonymus Functions)"
   ],
   "metadata": {}
  },
  {
   "cell_type": "code",
   "execution_count": null,
   "source": [
    "addone = lambda x: x + 1\r\n",
    "\r\n",
    "print(type(addone))\r\n",
    "result = addone(2)\r\n",
    "print(result)\r\n",
    "\r\n",
    "def power(n):\r\n",
    "    return lambda x : x**n\r\n",
    "\r\n",
    "print(type(power))\r\n",
    "\r\n",
    "square = power(2)\r\n",
    "print(square(4))\r\n",
    "\r\n",
    "cube = power(3)\r\n",
    "print(cube(3))"
   ],
   "outputs": [],
   "metadata": {}
  },
  {
   "cell_type": "markdown",
   "source": [
    "## Map and Filter Functions"
   ],
   "metadata": {}
  },
  {
   "cell_type": "code",
   "execution_count": null,
   "source": [
    "x = map(cube, range(10))\r\n",
    "print(list(x))\r\n",
    "\r\n",
    "def iseven(x):\r\n",
    "    return x%2 == 0\r\n",
    "y = filter(iseven, range(10))\r\n",
    "print(list(y))"
   ],
   "outputs": [],
   "metadata": {}
  },
  {
   "cell_type": "markdown",
   "source": [
    "## Generators"
   ],
   "metadata": {}
  },
  {
   "cell_type": "code",
   "execution_count": null,
   "source": [
    "def my_func():\r\n",
    "    return 'my_func'\r\n",
    "\r\n",
    "print(type(my_func))\r\n",
    "print(dir(my_func))\r\n",
    "\r\n",
    "def my_generator():\r\n",
    "    yield 1\r\n",
    "    yield 2\r\n",
    "\r\n",
    "print(type(my_generator))\r\n",
    "# my_it = iter(my_generator)\r\n",
    "x = my_generator()\r\n",
    "print(dir(x))\r\n",
    "# print(my_it)\r\n",
    "print(next(x))\r\n",
    "print(next(x))\r\n",
    "# print(next(x))\r\n"
   ],
   "outputs": [],
   "metadata": {}
  },
  {
   "cell_type": "code",
   "execution_count": null,
   "source": [
    "# Using generators\r\n",
    "for i in my_generator():\r\n",
    "    print(i)\r\n",
    "list(my_generator())\r\n",
    "tuple(my_generator())"
   ],
   "outputs": [],
   "metadata": {}
  },
  {
   "cell_type": "code",
   "execution_count": null,
   "source": [
    "# Factorial Function\r\n",
    "\r\n",
    "def factorial(n):\r\n",
    "    fact = 1\r\n",
    "    for i in range(n + 1):\r\n",
    "        if i == 0:\r\n",
    "            yield 1\r\n",
    "        elif i == 1:\r\n",
    "            yield 1\r\n",
    "        else:\r\n",
    "            fact *= i\r\n",
    "            yield fact\r\n",
    "\r\n",
    "for f in factorial(10):\r\n",
    "    print(f, end = ', ')"
   ],
   "outputs": [],
   "metadata": {}
  },
  {
   "cell_type": "markdown",
   "source": [
    "## Recursion\r\n"
   ],
   "metadata": {}
  },
  {
   "cell_type": "code",
   "execution_count": null,
   "source": [
    "# Fibbonacci Sequence 0, 1, 1, 2, 3, 5, 8\r\n",
    "# Fib(0) = 0, Fib(1) = 1, Fib(n) = Fib(n-2) + Fib(n-1)\r\n",
    "\r\n",
    "def fibonacci(n):\r\n",
    "    if n == 0 or n == 1:\r\n",
    "        return n\r\n",
    "    else:\r\n",
    "        return fibonacci(n-1) + fibonacci(n - 2)\r\n",
    "m = 20\r\n",
    "\r\n",
    "print([fibonacci(i) for i in range(m + 1)])"
   ],
   "outputs": [],
   "metadata": {}
  },
  {
   "cell_type": "code",
   "execution_count": null,
   "source": [
    "# Factorial\r\n",
    "# n! = 1*2*3*4....(n-1)*n\r\n",
    "\r\n",
    "def factorial(n):\r\n",
    "    if n == 0 or n == 1:\r\n",
    "        return 1\r\n",
    "    else: return n*factorial(n-1)\r\n",
    "\r\n",
    "print(factorial(3))"
   ],
   "outputs": [],
   "metadata": {}
  },
  {
   "cell_type": "markdown",
   "source": [
    "## Decorator functions"
   ],
   "metadata": {}
  },
  {
   "cell_type": "markdown",
   "source": [
    "### Function within function"
   ],
   "metadata": {}
  },
  {
   "cell_type": "code",
   "execution_count": null,
   "source": [
    "def outer():\r\n",
    "    def inner():\r\n",
    "        print('inner')\r\n",
    "        return 'from inner'\r\n",
    "    # Using inside outer function\r\n",
    "    inner()\r\n",
    "    # Return returned value of inner function\r\n",
    "    # return inner() \r\n",
    "    # Return inner function object\r\n",
    "    # return inner\r\n",
    "\r\n",
    "out = outer()    \r\n",
    "print(out)\r\n"
   ],
   "outputs": [],
   "metadata": {}
  },
  {
   "cell_type": "code",
   "execution_count": null,
   "source": [
    "# Inner outer functions\r\n",
    "def outer(func):\r\n",
    "    def inner():\r\n",
    "        print('befor func')\r\n",
    "        val = func()\r\n",
    "        print('after func')\r\n",
    "        return val\r\n",
    "    return inner\r\n",
    "\r\n",
    "def arg():\r\n",
    "    print('in arg func')\r\n",
    "\r\n",
    "inn = outer(arg)\r\n",
    "inn()"
   ],
   "outputs": [],
   "metadata": {}
  },
  {
   "cell_type": "code",
   "execution_count": null,
   "source": [
    "# Argument function with mandatory argument\r\n",
    "def outer(func):\r\n",
    "    def inner(x):\r\n",
    "        print('befor func')\r\n",
    "        val = func(x)\r\n",
    "        print('after func')\r\n",
    "        return val\r\n",
    "    return inner\r\n",
    "\r\n",
    "def arg(x):\r\n",
    "    return f'in arg func {x}'\r\n",
    "\r\n",
    "inn = outer(arg)\r\n",
    "print(inn(2))\r\n",
    "\r\n",
    "# Inner function is like a wrapper"
   ],
   "outputs": [],
   "metadata": {}
  },
  {
   "cell_type": "code",
   "execution_count": null,
   "source": [
    "# Argument function with optional argument\r\n",
    "\r\n",
    "def info(func):\r\n",
    "    def wrapper_func(*args):\r\n",
    "        print(f'Before {func.__name__} function', )\r\n",
    "        value  = func(*args)\r\n",
    "        print(f'After {func.__name__} function')\r\n",
    "        return value\r\n",
    "    return wrapper_func\r\n",
    "\r\n",
    "# Fucntion without variable\r\n",
    "def my_func():\r\n",
    "    print('my_func')\r\n",
    "\r\n",
    "my_function = info(my_func)\r\n",
    "my_function()\r\n",
    "\r\n",
    "@info # Decoration\r\n",
    "def other_func():\r\n",
    "    print('other_func')\r\n",
    "\r\n",
    "other_func()\r\n",
    "\r\n",
    "#Function with variables\r\n",
    "@info\r\n",
    "def sum_func(a, b):\r\n",
    "    print(a + b)\r\n",
    "\r\n",
    "sum_func(2,3)\r\n",
    "print(sum_func.__name__)\r\n",
    "# Identity of the sum_func is lost\r\n",
    "# Solve this with functools\r\n"
   ],
   "outputs": [],
   "metadata": {}
  },
  {
   "cell_type": "code",
   "execution_count": null,
   "source": [
    "import functools\r\n",
    "import time\r\n",
    "\r\n",
    "def timer(func):\r\n",
    "    \"\"\"Print the runtime of the decorated function\"\"\"\r\n",
    "    @functools.wraps(func)\r\n",
    "    def wrapper_func(*args, **kwargs):\r\n",
    "        start_time = time.perf_counter()    # 1\r\n",
    "        value = func(*args, **kwargs)\r\n",
    "        end_time = time.perf_counter()      # 2\r\n",
    "        run_time = end_time - start_time    # 3\r\n",
    "        print(f\"Finished {func.__name__!r} in {run_time:.4f} secs\")\r\n",
    "        return value\r\n",
    "    return wrapper_func\r\n",
    "\r\n",
    "@timer\r\n",
    "def run_time():\r\n",
    "    for _ in range(10000):\r\n",
    "        x = {}\r\n",
    "\r\n",
    "run_time()"
   ],
   "outputs": [],
   "metadata": {}
  },
  {
   "cell_type": "code",
   "execution_count": null,
   "source": [
    "# List vs tuple, which is more efficient\r\n",
    "\r\n",
    "@timer\r\n",
    "def list_time(n):\r\n",
    "    my_list = [i for i in range(n)]\r\n",
    "    my_sum = sum(my_list)\r\n",
    "    return my_sum\r\n",
    "@timer\r\n",
    "def tuple_time(n):\r\n",
    "    my_tuple = (i for i in range(n))\r\n",
    "    my_sum = sum(my_tuple)\r\n",
    "    return my_sum\r\n",
    "\r\n",
    "numbers = [10**i for i in range(8)]\r\n",
    "for n in numbers:\r\n",
    "    print('Number', n)\r\n",
    "    list_time(n)\r\n",
    "    tuple_time(n)\r\n"
   ],
   "outputs": [],
   "metadata": {}
  },
  {
   "cell_type": "code",
   "execution_count": null,
   "source": [
    "@timer\r\n",
    "def factorial(n):\r\n",
    "    if n == 0 or n == 1:\r\n",
    "        return 1\r\n",
    "    else: return n*factorial(n-1)\r\n",
    "\r\n",
    "print(factorial(10))"
   ],
   "outputs": [],
   "metadata": {}
  },
  {
   "cell_type": "markdown",
   "source": [
    "## Jumbled word game"
   ],
   "metadata": {}
  },
  {
   "cell_type": "code",
   "execution_count": 9,
   "source": [
    "# Python program for jumbled words game.\r\n",
    " \r\n",
    "# import random module\r\n",
    "import random\r\n",
    "from wordlist import words\r\n",
    " \r\n",
    "# function for choosing random word.\r\n",
    "def choose():\r\n",
    "    '''choice() method randomly choose any word from the list.'''\r\n",
    "\r\n",
    "    pick = random.choice(words)\r\n",
    "    return pick\r\n",
    "\r\n",
    "# Function for shuffling the characters of the chosen word.\r\n",
    "def jumble(word):\r\n",
    "    '''sample() method shuffling the characters of the word'''\r\n",
    "\r\n",
    "    random_word = random.sample(word, len(word))\r\n",
    " \r\n",
    "    # join() method join the elements of the iterator(e.g. list) with particular character .\r\n",
    "    jumbled = ''.join(random_word)\r\n",
    "    return jumbled\r\n",
    "\r\n",
    "# Function for playing the game.\r\n",
    "def play():\r\n",
    "\r\n",
    "    rules = '''\r\n",
    "    1. Jumbled word is English workd with jumbled alphabets\r\n",
    "    2. Correct the spelling and press Enter\r\n",
    "    3. On worng spelling you loose the game\r\n",
    "    4. Press 0 to quit the game in between\r\n",
    "    '''\r\n",
    "    print(rules)\r\n",
    "    score = 0\r\n",
    "    # keep looping\r\n",
    "    while True:\r\n",
    " \r\n",
    "        # choose() function calling\r\n",
    "\r\n",
    "        picked_word = choose()\r\n",
    " \r\n",
    "        # jumble() function calling\r\n",
    "        jumble_word = jumble(picked_word)\r\n",
    "        print(\"jumbled word is :\", jumble_word)\r\n",
    "        ans = input(\"what is in your mind? \")\r\n",
    "\r\n",
    "        # checking ans is equal to picked_word or not\r\n",
    "        if ans == picked_word:\r\n",
    "            score += 1\r\n",
    "            print('Your score is :', score)\r\n",
    "        else:\r\n",
    "            print(f\"Sorry you Loose, correct spelling is: {picked_word}\")\r\n",
    "            break\r\n",
    "        c = int(input(\"press 1 to continue and 0 to quit :\"))\r\n",
    "\r\n",
    "        # checking the c is equal to 0 or not\r\n",
    "        # if c is equal to 0 then break out\r\n",
    "        # of the while loop o/w keep looping.\r\n",
    "        if c == 0:\r\n",
    "            print('Thank you !!')\r\n",
    "            break\r\n",
    "# Driver code\r\n",
    "if __name__ == '__main__':\r\n",
    "    # play() function calling\r\n",
    "    play()"
   ],
   "outputs": [
    {
     "output_type": "stream",
     "name": "stdout",
     "text": [
      "\n",
      "    1. Jumbled word is English workd with jumbled alphabets\n",
      "    2. Correct the spelling and press Enter\n",
      "    3. On worng spelling you loose the game\n",
      "    4. Press 0 to quit the game in between\n",
      "    \n",
      "jumbled word is : waert\n",
      "Your score is : 1\n",
      "Thank you !!\n"
     ]
    }
   ],
   "metadata": {}
  }
 ],
 "metadata": {
  "kernelspec": {
   "name": "python3",
   "display_name": "Python 3.8.7 64-bit (system)"
  },
  "language_info": {
   "codemirror_mode": {
    "name": "ipython",
    "version": 3
   },
   "file_extension": ".py",
   "mimetype": "text/x-python",
   "name": "python",
   "nbconvert_exporter": "python",
   "pygments_lexer": "ipython3",
   "version": "3.8.7"
  },
  "interpreter": {
   "hash": "ef35354d82397584f27d83d421f20ad793cad76ac7a25312cbe586add919b453"
  }
 },
 "nbformat": 4,
 "nbformat_minor": 5
}