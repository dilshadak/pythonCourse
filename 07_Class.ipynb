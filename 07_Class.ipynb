{
 "cells": [
  {
   "cell_type": "markdown",
   "source": [
    "# Why use classes\r\n",
    "## Mimicing real world entity by associating methods, properties to it"
   ],
   "metadata": {}
  },
  {
   "cell_type": "markdown",
   "source": [
    "## Class in Python"
   ],
   "metadata": {}
  },
  {
   "cell_type": "code",
   "execution_count": null,
   "source": [
    "# A simple class\r\n",
    "class Shape:\r\n",
    "    pass\r\n",
    "\r\n",
    "# Class bject\r\n",
    "class_object = Shape()\r\n",
    "print(type(class_object))\r\n",
    "help(class_object)\r\n",
    "dir(class_object)\r\n",
    "\r\n",
    "# print(class_object == class_object)"
   ],
   "outputs": [],
   "metadata": {}
  },
  {
   "cell_type": "code",
   "execution_count": 10,
   "source": [
    "# Constructor, Object variables\r\n",
    "class Rectangle:\r\n",
    "\r\n",
    "    def __init__(self, length, width):\r\n",
    "        self.length = length\r\n",
    "        self.width = width\r\n",
    "\r\n",
    "rect = Rectangle(2, 3)\r\n",
    "print(rect.length, rect.width)\r\n",
    "\r\n",
    "# Modifying object properties\r\n",
    "rect.length = 4\r\n",
    "rect.width = 5\r\n",
    "\r\n",
    "print(rect.length, rect.width)\r\n"
   ],
   "outputs": [
    {
     "output_type": "stream",
     "name": "stdout",
     "text": [
      "Biryani Non-Veg\n",
      "Paneer Veg\n"
     ]
    }
   ],
   "metadata": {}
  },
  {
   "cell_type": "markdown",
   "source": [
    "## Self in class\r\n",
    "### The self parameter is a reference to the current instance of the class, and is used to access variables that belong to the class."
   ],
   "metadata": {}
  },
  {
   "cell_type": "code",
   "execution_count": 11,
   "source": [
    "# Object methods (functions)\r\n",
    "class Rectangle:\r\n",
    "\r\n",
    "    def __init__(currObj, length, width):\r\n",
    "        currObj.length = length\r\n",
    "        currObj.width = width\r\n",
    "\r\n",
    "    def area(thisObj): # thisObj : placeholder for class object\r\n",
    "        return thisObj.length * thisObj.width\r\n",
    "    \r\n",
    "    # def perimeter(self):\r\n",
    "        \r\n",
    "rect1 = Rectangle(2, 3)\r\n",
    "rect1.area()\r\n",
    "\r\n",
    "rect2 = Rectangle(3, 4)\r\n",
    "rect2.area()"
   ],
   "outputs": [
    {
     "output_type": "execute_result",
     "data": {
      "text/plain": [
       "12"
      ]
     },
     "metadata": {},
     "execution_count": 11
    }
   ],
   "metadata": {}
  },
  {
   "cell_type": "markdown",
   "source": [
    "## Class Varables and Class Methods\r\n",
    "### Class does not know about the object"
   ],
   "metadata": {}
  },
  {
   "cell_type": "code",
   "execution_count": 25,
   "source": [
    "# Object methods (functions)\r\n",
    "class Rectangle:\r\n",
    "\r\n",
    "    rectangle_objects = [] # Accessable by class and class object\r\n",
    "\r\n",
    "    def __init__(self, length, width):\r\n",
    "        self.length = length\r\n",
    "        self.width = width\r\n",
    "        # self.rectangle_objects\r\n",
    "        # Rectangle.rectangle_objects.append(self)\r\n",
    "\r\n",
    "    def area(self):\r\n",
    "        return self.length * self.width\r\n",
    "\r\n",
    "rect1 = Rectangle(2,3)\r\n",
    "\r\n",
    "print(rect1.rectangle_objects)\r\n",
    "\r\n",
    "Rectangle.rectangle_objects.append(rect1)\r\n",
    "\r\n",
    "print(rect1.rectangle_objects)\r\n",
    "\r\n",
    "rect2 = Rectangle(3, 4)\r\n",
    "print(rect2.rectangle_objects)\r\n",
    "\r\n",
    "# print(rect.__doc__)\r\n",
    "# help(rect)"
   ],
   "outputs": [
    {
     "output_type": "stream",
     "name": "stdout",
     "text": [
      "[]\n",
      "[<__main__.Rectangle object at 0x000001B8EC4C7940>]\n",
      "[<__main__.Rectangle object at 0x000001B8EC4C7940>]\n"
     ]
    }
   ],
   "metadata": {}
  },
  {
   "cell_type": "code",
   "execution_count": 24,
   "source": [
    "# Class methods\r\n",
    "class Rectangle:\r\n",
    "\r\n",
    "    rectangle_objects = [] # Accessable by class object\r\n",
    "\r\n",
    "    def __init__(self, length, width):\r\n",
    "        self.length = length\r\n",
    "        self.width = width\r\n",
    "        self.rectangle_objects.append(self)\r\n",
    "        # Rectangle.rectangle_objects.append(self)\r\n",
    "\r\n",
    "    def area(self):\r\n",
    "        return self.length * self.width\r\n",
    "    \r\n",
    "    @classmethod\r\n",
    "    def countRect(cls):\r\n",
    "        return len(cls.rectangle_objects)\r\n",
    "\r\n",
    "rect1 = Rectangle(2, 3)\r\n",
    "rect2 = Rectangle(3, 4)\r\n",
    "rect1.countRect()\r\n",
    "Rectangle.countRect()"
   ],
   "outputs": [
    {
     "output_type": "execute_result",
     "data": {
      "text/plain": [
       "2"
      ]
     },
     "metadata": {},
     "execution_count": 24
    }
   ],
   "metadata": {}
  },
  {
   "cell_type": "code",
   "execution_count": 33,
   "source": [
    "# Static Method\r\n",
    "class Rectangle:\r\n",
    "\r\n",
    "    rectangle_objects = [] # Accessable by class object\r\n",
    "\r\n",
    "    def __init__(self, length, width):\r\n",
    "        self.length = length\r\n",
    "        self.width = width\r\n",
    "        self.rectangle_objects.append(self)\r\n",
    "        # Rectangle.rectangle_objects.append(self)\r\n",
    "\r\n",
    "    def area(self):\r\n",
    "        return self.length * self.width\r\n",
    "    \r\n",
    "    @classmethod\r\n",
    "    def countRect(cls):\r\n",
    "        return len(cls.rectangle_objects)\r\n",
    "    \r\n",
    "    @staticmethod\r\n",
    "    def perimeter(length, width):\r\n",
    "        return 2*(length + width)\r\n",
    "\r\n",
    "rect1 = Rectangle(2, 3)\r\n",
    "# Object\r\n",
    "rect1.area() # Instance method\r\n",
    "rect1.countRect() # class method\r\n",
    "Rectangle.perimeter(2,3) # Static method\r\n",
    "# Class\r\n",
    "# Rectangle.area() # Instance method\r\n",
    "Rectangle(1,2).area()\r\n",
    "Rectangle.countRect() # class method\r\n",
    "Rectangle.perimeter(2,3) # Static method\r\n",
    "\r\n"
   ],
   "outputs": [
    {
     "output_type": "execute_result",
     "data": {
      "text/plain": [
       "10"
      ]
     },
     "metadata": {},
     "execution_count": 33
    }
   ],
   "metadata": {}
  },
  {
   "cell_type": "code",
   "execution_count": 35,
   "source": [
    "# Constructors and Magic Methods in Python\r\n",
    "class Vector:\r\n",
    "    '''\r\n",
    "    Class of vectors for addition, subtraction and dot products\r\n",
    "    between two vectors.\r\n",
    "    '''\r\n",
    "    def __init__(self, x, y):\r\n",
    "        self.x = x\r\n",
    "        self.y = y\r\n",
    "\r\n",
    "    def __str__(self): # when printed\r\n",
    "        return f'vector ({self.x}, {self.y})'\r\n",
    "    \r\n",
    "    def __repr__(self):\r\n",
    "        return f'Vector ({self.x}, {self.y})'\r\n",
    "    \r\n",
    "    def __add__(self, other): # +\r\n",
    "        return Vector(self.x + other.x, self.y + other.y)\r\n",
    "        \r\n",
    "    def __sub__(self, other): # -\r\n",
    "        return Vector(self.x - other.x, self.y - other.y)\r\n",
    "\r\n",
    "    def __mul__(self, other): # *\r\n",
    "        return self.x * other.x + self.y * other.y\r\n",
    "    \r\n",
    "    def mag(self):\r\n",
    "        return (self.x**2 + self.y**2)**0.5"
   ],
   "outputs": [],
   "metadata": {}
  },
  {
   "cell_type": "code",
   "execution_count": 37,
   "source": [
    "v1 = Vector(2, 10)\r\n",
    "v2 = Vector(5, -2)\r\n",
    "v3 = Vector(3, 7)\r\n",
    "print(v1)\r\n",
    "v1\r\n",
    "# print(v1)\r\n",
    "# print(v1.mag)\r\n",
    "# print(v1 + v2)\r\n",
    "# print(v1 - v2)\r\n",
    "# print(v1 + v2 + v3)\r\n",
    "# print(v1*v2)"
   ],
   "outputs": [
    {
     "output_type": "stream",
     "name": "stdout",
     "text": [
      "vector (2, 10)\n"
     ]
    },
    {
     "output_type": "execute_result",
     "data": {
      "text/plain": [
       "Vector (2, 10)"
      ]
     },
     "metadata": {},
     "execution_count": 37
    }
   ],
   "metadata": {}
  },
  {
   "cell_type": "code",
   "execution_count": null,
   "source": [
    "# Inheritance, Method Overriding\r\n",
    "class Shape:\r\n",
    "    shapes = []\r\n",
    "\r\n",
    "class Rectangle(Shape):\r\n",
    "\r\n",
    "    def __init__(self, length, width):\r\n",
    "        self.length = length\r\n",
    "        self.width = width\r\n",
    "        self.area = length * width\r\n",
    "        self.perimeter = 2*(length + width)\r\n",
    "        Shape.shapes.append(self)\r\n",
    "\r\n",
    "    def __add__(self, other):\r\n",
    "        return Rectangle(self.length + other.length, self.width + other.width)\r\n",
    "\r\n",
    "    def __str__(self):\r\n",
    "        return f'Length: {self.length}, Width: {self.width}'\r\n",
    "    \r\n",
    "    def __reper__(self):\r\n",
    "        return f'Rectangle({self.length}, {self.width})'\r\n",
    "\r\n",
    "    def info(self):\r\n",
    "        print(f'Rectangle with Area: {self.area}, and Perimeter: {self.perimeter}')    \r\n",
    "\r\n",
    "class Square(Rectangle):\r\n",
    "\r\n",
    "    def __init__(self, side):\r\n",
    "        super().__init__(side, side)\r\n",
    "    \r\n",
    "    def __str__(self):\r\n",
    "        return f'Side: {self.length}'\r\n",
    "\r\n",
    "    def info(self):\r\n",
    "        print(f'Square with Area {self.area}, Perimeter {self.perimeter}')"
   ],
   "outputs": [],
   "metadata": {}
  },
  {
   "cell_type": "code",
   "execution_count": null,
   "source": [
    "rect = Rectangle(2, 3)\r\n",
    "rect.info()\r\n",
    "\r\n",
    "sqr = Square(8)\r\n",
    "sqr.info()\r\n",
    "print(isinstance(sqr, Square))\r\n",
    "for shp in Shape().shapes:\r\n",
    "    shp.info()\r\n",
    "    print(shp)\r\n",
    "\r\n",
    "new = rect + sqr\r\n",
    "new.info()"
   ],
   "outputs": [],
   "metadata": {}
  },
  {
   "cell_type": "code",
   "execution_count": 40,
   "source": [
    "# Multiple inheritance\r\n",
    "class A:\r\n",
    "    def __init__(self):\r\n",
    "        print('A initialized')\r\n",
    "\r\n",
    "class B:\r\n",
    "    def __init__(self):\r\n",
    "        print('B initialized')\r\n",
    "        self.vb = 'b'\r\n",
    "        # super().__init__()\r\n",
    "\r\n",
    "    def x(self):\r\n",
    "        print('method x of B is called')\r\n",
    "\r\n",
    "class C:\r\n",
    "    def __init__(self):\r\n",
    "        print('C initialized')\r\n",
    "        self.vc = 'c'\r\n",
    "        # super().__init__()\r\n",
    "    def c(self):\r\n",
    "        print('method c of C is called')\r\n",
    "\r\n",
    "    def x(self):\r\n",
    "        print('method x of C is called')\r\n",
    "\r\n",
    "# Method Resolution Order (MRO)\r\n",
    "class D(B, C):\r\n",
    "    def __init__(self):\r\n",
    "        print('D initialized')\r\n",
    "        B.__init__(self)\r\n",
    "        C.__init__(self) # Does not override method\r\n",
    "\r\n",
    "    # def x(self):\r\n",
    "    #     print('method x of D is called')\r\n",
    "\r\n",
    "d = D()\r\n",
    "# d.c()\r\n",
    "# print(d.vb)\r\n",
    "# # print(d.vc)\r\n",
    "d.x()"
   ],
   "outputs": [
    {
     "output_type": "stream",
     "name": "stdout",
     "text": [
      "D initialized\n",
      "B initialized\n",
      "C initialized\n",
      "method x of B is called\n"
     ]
    }
   ],
   "metadata": {}
  },
  {
   "cell_type": "code",
   "execution_count": null,
   "source": [],
   "outputs": [],
   "metadata": {}
  }
 ],
 "metadata": {
  "orig_nbformat": 4,
  "language_info": {
   "name": "python",
   "version": "3.8.7",
   "mimetype": "text/x-python",
   "codemirror_mode": {
    "name": "ipython",
    "version": 3
   },
   "pygments_lexer": "ipython3",
   "nbconvert_exporter": "python",
   "file_extension": ".py"
  },
  "kernelspec": {
   "name": "python3",
   "display_name": "Python 3.8.7 64-bit (system)"
  },
  "interpreter": {
   "hash": "ef35354d82397584f27d83d421f20ad793cad76ac7a25312cbe586add919b453"
  }
 },
 "nbformat": 4,
 "nbformat_minor": 2
}