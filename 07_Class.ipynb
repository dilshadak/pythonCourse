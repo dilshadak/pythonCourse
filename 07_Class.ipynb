{
 "cells": [
  {
   "cell_type": "markdown",
   "source": [
    "# Why use classes\r\n",
    "## Mimicing real world entity by associating methods, properties to it"
   ],
   "metadata": {}
  },
  {
   "cell_type": "markdown",
   "source": [
    "## Class in Python"
   ],
   "metadata": {}
  },
  {
   "cell_type": "code",
   "execution_count": null,
   "source": [
    "# A simple class\r\n",
    "class Class:\r\n",
    "    pass\r\n",
    "\r\n",
    "# Class bject\r\n",
    "class_object = Class()\r\n",
    "print(type(class_object))\r\n",
    "help(class_object)\r\n",
    "dir(class_object)\r\n",
    "\r\n",
    "# print(class_object == class_object)"
   ],
   "outputs": [],
   "metadata": {}
  },
  {
   "cell_type": "code",
   "execution_count": null,
   "source": [
    "# Class variable\r\n",
    "class ClassVar():\r\n",
    "    '''\r\n",
    "    This class has class variable\r\n",
    "    '''\r\n",
    "    class_variable = 10\r\n",
    "\r\n",
    "class_var = ClassVar()\r\n",
    "print(class_var.class_variable)\r\n",
    "class_var.class_variable = 20\r\n",
    "print(class_var.class_variable)\r\n",
    "print(class_var.__doc__)\r\n",
    "help(class_var)"
   ],
   "outputs": [],
   "metadata": {}
  },
  {
   "cell_type": "code",
   "execution_count": null,
   "source": [
    "# Class methods\r\n",
    "class ClassMethod:\r\n",
    "    '''\r\n",
    "    This class has class variable, and method\r\n",
    "    '''\r\n",
    "    class_variable = 10\r\n",
    "\r\n",
    "    def method(self):\r\n",
    "        self.method_varibale = 20\r\n"
   ],
   "outputs": [],
   "metadata": {}
  },
  {
   "cell_type": "code",
   "execution_count": null,
   "source": [
    "cm_object1 = ClassMethod()\r\n",
    "cm_object1.class_variable = 'Hello'\r\n",
    "print(cm_object1.class_variable)\r\n",
    "# print(class_method.method_varibale)\r\n",
    "cm_object1.method()\r\n",
    "print(cm_object1.method_varibale)\r\n",
    "cm_object1.method_varibale = 'Hi'\r\n",
    "print(cm_object1.method_varibale)\r\n",
    "\r\n",
    "cm_object2 = ClassMethod()\r\n",
    "cm_object2.method()\r\n",
    "print(cm_object2.class_variable)\r\n",
    "print(cm_object2.method_varibale)"
   ],
   "outputs": [],
   "metadata": {}
  },
  {
   "cell_type": "code",
   "execution_count": null,
   "source": [
    "# Object Methods"
   ],
   "outputs": [],
   "metadata": {}
  },
  {
   "cell_type": "code",
   "execution_count": null,
   "source": [
    "# Constructors and Magic Methods in Python\r\n",
    "class Vector:\r\n",
    "    '''\r\n",
    "    Class of vectors for addition, subtraction and dot products\r\n",
    "    between two vectors.\r\n",
    "    '''\r\n",
    "    def __init__(self, x, y):\r\n",
    "        self.x = x\r\n",
    "        self.y = y\r\n",
    "        self.mag = (x**2 + y**2)**0.5\r\n",
    "\r\n",
    "    def __str__(self): # when printed\r\n",
    "        return f'Vector ({self.x}, {self.y})'\r\n",
    "    \r\n",
    "    def __add__(self, other): # +\r\n",
    "        return Vector(self.x + other.x, self.y + other.y)\r\n",
    "        \r\n",
    "    def __sub__(self, other): # -\r\n",
    "        return Vector(self.x - other.x, self.y - other.y)\r\n",
    "\r\n",
    "    def __mul__(self, other): # *\r\n",
    "        return self.x * other.x + self.y * other.y"
   ],
   "outputs": [],
   "metadata": {}
  },
  {
   "cell_type": "code",
   "execution_count": null,
   "source": [
    "v1 = Vector(2, 10)\r\n",
    "v2 = Vector(5, -2)\r\n",
    "v3 = Vector(3, 7)\r\n",
    "\r\n",
    "# print(v1)\r\n",
    "# print(v1.mag)\r\n",
    "# print(v1 + v2)\r\n",
    "# print(v1 - v2)\r\n",
    "# print(v1 + v2 + v3)\r\n",
    "# print(v1*v2)"
   ],
   "outputs": [],
   "metadata": {}
  },
  {
   "cell_type": "code",
   "execution_count": null,
   "source": [
    "# Inheritance, Method Overriding\r\n",
    "class Shape:\r\n",
    "    shapes = []\r\n",
    "\r\n",
    "class Rectangle(Shape):\r\n",
    "\r\n",
    "    def __init__(self, length, width):\r\n",
    "        self.length = length\r\n",
    "        self.width = width\r\n",
    "        self.area = length * width\r\n",
    "        self.perimeter = 2*(length + width)\r\n",
    "        Shape.shapes.append(self)\r\n",
    "\r\n",
    "    def __add__(self, other):\r\n",
    "        return Rectangle(self.length + other.length, self.width + other.width)\r\n",
    "\r\n",
    "    def __str__(self):\r\n",
    "        return f'Length: {self.length}, Width: {self.width}'\r\n",
    "\r\n",
    "    def info(self):\r\n",
    "        print(f'Rectangle with Area: {self.area}, and Perimeter: {self.perimeter}')    \r\n",
    "\r\n",
    "class Square(Rectangle):\r\n",
    "\r\n",
    "    def __init__(self, side):\r\n",
    "        super().__init__(side, side)\r\n",
    "    \r\n",
    "    def __str__(self):\r\n",
    "        return f'Side: {self.length}'\r\n",
    "\r\n",
    "    def info(self):\r\n",
    "        print(f'Square with Area {self.area}, Perimeter {self.perimeter}')"
   ],
   "outputs": [],
   "metadata": {}
  },
  {
   "cell_type": "code",
   "execution_count": null,
   "source": [
    "rect = Rectangle(2, 3)\r\n",
    "rect.info()\r\n",
    "\r\n",
    "sqr = Square(8)\r\n",
    "sqr.info()\r\n",
    "print(isinstance(sqr, Square))\r\n",
    "for shp in Shape().shapes:\r\n",
    "    shp.info()\r\n",
    "    print(shp)\r\n",
    "\r\n",
    "new = rect + sqr\r\n",
    "new.info()"
   ],
   "outputs": [],
   "metadata": {}
  },
  {
   "cell_type": "code",
   "execution_count": null,
   "source": [
    "# Multiple inheritance\r\n",
    "class A:\r\n",
    "    def __init__(self):\r\n",
    "        print('A initialized')\r\n",
    "\r\n",
    "class B:\r\n",
    "    def __init__(self):\r\n",
    "        print('B initialized')\r\n",
    "        self.vb = 'b'\r\n",
    "        # super().__init__()\r\n",
    "\r\n",
    "    def x(self):\r\n",
    "        print('method x of B is called')\r\n",
    "\r\n",
    "class C:\r\n",
    "    def __init__(self):\r\n",
    "        print('C initialized')\r\n",
    "        self.vc = 'c'\r\n",
    "        # super().__init__()\r\n",
    "    def c(self):\r\n",
    "        print('method c of C is called')\r\n",
    "\r\n",
    "    def x(self):\r\n",
    "        print('method x of C is called')\r\n",
    "\r\n",
    "# Method Resolution Order (MRO)\r\n",
    "class D(B, C):\r\n",
    "    def __init__(self):\r\n",
    "        print('D initialized')\r\n",
    "        B.__init__(self)\r\n",
    "        C.__init__(self) # Does not override method\r\n",
    "\r\n",
    "    def x(self):\r\n",
    "        print('method x of D is called')\r\n",
    "\r\n",
    "d = D()\r\n",
    "d.c()\r\n",
    "print(d.vb)\r\n",
    "# print(d.vc)\r\n",
    "d.x()"
   ],
   "outputs": [],
   "metadata": {}
  }
 ],
 "metadata": {
  "orig_nbformat": 4,
  "language_info": {
   "name": "python",
   "version": "3.8.7",
   "mimetype": "text/x-python",
   "codemirror_mode": {
    "name": "ipython",
    "version": 3
   },
   "pygments_lexer": "ipython3",
   "nbconvert_exporter": "python",
   "file_extension": ".py"
  },
  "kernelspec": {
   "name": "python3",
   "display_name": "Python 3.8.7 64-bit (system)"
  },
  "interpreter": {
   "hash": "ef35354d82397584f27d83d421f20ad793cad76ac7a25312cbe586add919b453"
  }
 },
 "nbformat": 4,
 "nbformat_minor": 2
}