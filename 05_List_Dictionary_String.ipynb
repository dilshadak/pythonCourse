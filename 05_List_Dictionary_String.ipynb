{
 "cells": [
  {
   "cell_type": "markdown",
   "source": [
    "### List and List Functions"
   ],
   "metadata": {}
  },
  {
   "cell_type": "code",
   "execution_count": null,
   "source": [
    "empty_list = [] # Empty list\r\n",
    "print(empty_list)\r\n",
    "print(type(my_list))\r\n",
    "\r\n",
    "other_empty_list = list()\r\n",
    "print(other_empty_list)\r\n",
    "print(type(other_empty_list))\r\n",
    "\r\n",
    "dir(list)"
   ],
   "outputs": [],
   "metadata": {}
  },
  {
   "cell_type": "code",
   "execution_count": 4,
   "source": [
    "# 'append', 'add'\r\n",
    "\r\n",
    "x = [1, 2]\r\n",
    "\r\n",
    "x.append(3)\r\n",
    "\r\n",
    "print(x)\r\n",
    "\r\n",
    "x.append([4,5])\r\n",
    "\r\n",
    "print(x)\r\n",
    "\r\n",
    "y = x + x\r\n",
    "\r\n",
    "print(y)\r\n",
    "\r\n",
    "print([1,2,3] - [1,2])"
   ],
   "outputs": [
    {
     "output_type": "stream",
     "name": "stdout",
     "text": [
      "[1, 2, 3]\n",
      "[1, 2, 3, [4, 5]]\n",
      "[1, 2, 3, [4, 5], 1, 2, 3, [4, 5]]\n",
      "[1, 2, 3, 1, 2]\n"
     ]
    }
   ],
   "metadata": {}
  },
  {
   "cell_type": "code",
   "execution_count": 71,
   "source": [
    "#  'index',\r\n",
    "x.index(2)"
   ],
   "outputs": [
    {
     "output_type": "execute_result",
     "data": {
      "text/plain": [
       "1"
      ]
     },
     "metadata": {},
     "execution_count": 71
    }
   ],
   "metadata": {}
  },
  {
   "cell_type": "code",
   "execution_count": 72,
   "source": [
    "#  'count',\r\n",
    "x.append(3)\r\n",
    "x.count(3)"
   ],
   "outputs": [
    {
     "output_type": "execute_result",
     "data": {
      "text/plain": [
       "2"
      ]
     },
     "metadata": {},
     "execution_count": 72
    }
   ],
   "metadata": {}
  },
  {
   "cell_type": "code",
   "execution_count": 73,
   "source": [
    "#  'extend',\r\n",
    "x.extend([6, 5])\r\n",
    "x"
   ],
   "outputs": [
    {
     "output_type": "execute_result",
     "data": {
      "text/plain": [
       "[1, 2, 3, 3, 6, 5]"
      ]
     },
     "metadata": {},
     "execution_count": 73
    }
   ],
   "metadata": {}
  },
  {
   "cell_type": "code",
   "execution_count": 74,
   "source": [
    "#  'reverse', 'sort'\r\n",
    "x.reverse()\r\n",
    "x"
   ],
   "outputs": [
    {
     "output_type": "execute_result",
     "data": {
      "text/plain": [
       "[5, 6, 3, 3, 2, 1]"
      ]
     },
     "metadata": {},
     "execution_count": 74
    }
   ],
   "metadata": {}
  },
  {
   "cell_type": "code",
   "execution_count": 75,
   "source": [
    "#  'insert',\r\n",
    "x.insert(2,9)\r\n",
    "x"
   ],
   "outputs": [
    {
     "output_type": "execute_result",
     "data": {
      "text/plain": [
       "[5, 6, 9, 3, 3, 2, 1]"
      ]
     },
     "metadata": {},
     "execution_count": 75
    }
   ],
   "metadata": {}
  },
  {
   "cell_type": "code",
   "execution_count": 76,
   "source": [
    "#  'copy',\r\n",
    "\r\n",
    "y = x.copy()\r\n",
    "y\r\n",
    "y.append(3)\r\n",
    "x"
   ],
   "outputs": [
    {
     "output_type": "execute_result",
     "data": {
      "text/plain": [
       "[5, 6, 9, 3, 3, 2, 1]"
      ]
     },
     "metadata": {},
     "execution_count": 76
    }
   ],
   "metadata": {}
  },
  {
   "cell_type": "code",
   "execution_count": 77,
   "source": [
    "#  'pop', 'remove', 'clear',\r\n",
    "\r\n",
    "x.pop(0)\r\n",
    "x.remove(3)\r\n",
    "x.clear()"
   ],
   "outputs": [],
   "metadata": {}
  },
  {
   "cell_type": "markdown",
   "source": [
    "### Getting List Elements"
   ],
   "metadata": {}
  },
  {
   "cell_type": "code",
   "execution_count": 24,
   "source": [
    "x = [1,2,3,4,5,6]\r\n",
    "x[0]\r\n",
    "x[1:4]\r\n",
    "x[:3]\r\n",
    "x[4:]\r\n",
    "x[-1]\r\n",
    "x[-3:]"
   ],
   "outputs": [
    {
     "output_type": "execute_result",
     "data": {
      "text/plain": [
       "[4, 5, 6]"
      ]
     },
     "metadata": {},
     "execution_count": 24
    }
   ],
   "metadata": {}
  },
  {
   "cell_type": "markdown",
   "source": [
    "### Changing List Elements"
   ],
   "metadata": {}
  },
  {
   "cell_type": "code",
   "execution_count": 27,
   "source": [
    "x[0] = 'a'\r\n",
    "x[1:3] = ['b','c']\r\n",
    "x"
   ],
   "outputs": [
    {
     "output_type": "execute_result",
     "data": {
      "text/plain": [
       "['a', 'b', 'c', 4, 5, 6]"
      ]
     },
     "metadata": {},
     "execution_count": 27
    }
   ],
   "metadata": {}
  },
  {
   "cell_type": "code",
   "execution_count": 1,
   "source": [
    "# Counting items\r\n",
    "x = [1,2,3,4,3,2,1,1]\r\n",
    "c1 = x.count(1)\r\n",
    "c1"
   ],
   "outputs": [
    {
     "output_type": "execute_result",
     "data": {
      "text/plain": [
       "3"
      ]
     },
     "metadata": {},
     "execution_count": 1
    }
   ],
   "metadata": {}
  },
  {
   "cell_type": "markdown",
   "source": [
    "### List comprehension"
   ],
   "metadata": {}
  },
  {
   "cell_type": "code",
   "execution_count": 9,
   "source": [
    "# Range function\r\n",
    "for i in range(2, 20, 3):\r\n",
    "    print(i)\r\n",
    "\r\n",
    "list_odds = [ i for i in range(1, 10, 2)]\r\n",
    "print(list_odds)\r\n",
    "\r\n",
    "list_square = [i*2 for i in range(10)]\r\n",
    "print(list_square)\r\n",
    "\r\n",
    "filter_even = [i for i in range(10) if i%2 ==0]\r\n",
    "print(filter_even)"
   ],
   "outputs": [
    {
     "output_type": "stream",
     "name": "stdout",
     "text": [
      "2\n",
      "5\n",
      "8\n",
      "11\n",
      "14\n",
      "17\n",
      "[1, 3, 5, 7, 9]\n",
      "[0, 2, 4, 6, 8, 10, 12, 14, 16, 18]\n",
      "[0, 2, 4, 6, 8]\n"
     ]
    }
   ],
   "metadata": {}
  },
  {
   "cell_type": "code",
   "execution_count": 23,
   "source": [
    "# List of list\r\n",
    "\r\n",
    "list_of_list = [[i for i in range(3)] for j in range(4)]\r\n",
    "print(list_of_list)\r\n",
    "\r\n",
    "list_of_list_of_list = [[[i for i in range(3)] for j in range(4)] for k in range(5)] \r\n",
    "print(list_of_list_of_list)\r\n",
    "\r\n",
    "# Unpakcing list of list\r\n",
    "\r\n",
    "unpacked_list = [ i for j in list_of_list for i in j]\r\n",
    "\r\n",
    "print(unpacked_list)\r\n",
    "\r\n",
    "unpacked_list_of_list = [i for k in list_of_list_of_list for j in k for i in j]\r\n",
    "print(unpacked_list_of_list)"
   ],
   "outputs": [
    {
     "output_type": "stream",
     "name": "stdout",
     "text": [
      "[[0, 1, 2], [0, 1, 2], [0, 1, 2], [0, 1, 2]]\n",
      "[[[0, 1, 2], [0, 1, 2], [0, 1, 2], [0, 1, 2]], [[0, 1, 2], [0, 1, 2], [0, 1, 2], [0, 1, 2]], [[0, 1, 2], [0, 1, 2], [0, 1, 2], [0, 1, 2]], [[0, 1, 2], [0, 1, 2], [0, 1, 2], [0, 1, 2]], [[0, 1, 2], [0, 1, 2], [0, 1, 2], [0, 1, 2]]]\n",
      "[0, 1, 2, 0, 1, 2, 0, 1, 2, 0, 1, 2]\n",
      "[0, 1, 2, 0, 1, 2, 0, 1, 2, 0, 1, 2, 0, 1, 2, 0, 1, 2, 0, 1, 2, 0, 1, 2, 0, 1, 2, 0, 1, 2, 0, 1, 2, 0, 1, 2, 0, 1, 2, 0, 1, 2, 0, 1, 2, 0, 1, 2, 0, 1, 2, 0, 1, 2, 0, 1, 2, 0, 1, 2]\n"
     ]
    }
   ],
   "metadata": {}
  },
  {
   "cell_type": "markdown",
   "source": [
    "### String and String Functions"
   ],
   "metadata": {}
  },
  {
   "cell_type": "code",
   "execution_count": 36,
   "source": [
    "empty_str = str()\r\n",
    "empty_str_sq = '' \r\n",
    "string = 'abcdefgh'\r\n",
    "string\r\n",
    "function_list = dir(str)\r\n",
    "\r\n",
    "for f in function_list: print(f, end=',  ')"
   ],
   "outputs": [
    {
     "output_type": "stream",
     "name": "stdout",
     "text": [
      "__add__,  __class__,  __contains__,  __delattr__,  __dir__,  __doc__,  __eq__,  __format__,  __ge__,  __getattribute__,  __getitem__,  __getnewargs__,  __gt__,  __hash__,  __init__,  __init_subclass__,  __iter__,  __le__,  __len__,  __lt__,  __mod__,  __mul__,  __ne__,  __new__,  __reduce__,  __reduce_ex__,  __repr__,  __rmod__,  __rmul__,  __setattr__,  __sizeof__,  __str__,  __subclasshook__,  capitalize,  casefold,  center,  count,  encode,  endswith,  expandtabs,  find,  format,  format_map,  index,  isalnum,  isalpha,  isascii,  isdecimal,  isdigit,  isidentifier,  islower,  isnumeric,  isprintable,  isspace,  istitle,  isupper,  join,  ljust,  lower,  lstrip,  maketrans,  partition,  replace,  rfind,  rindex,  rjust,  rpartition,  rsplit,  rstrip,  split,  splitlines,  startswith,  strip,  swapcase,  title,  translate,  upper,  zfill,  "
     ]
    }
   ],
   "metadata": {}
  },
  {
   "cell_type": "code",
   "execution_count": 8,
   "source": [
    "# center, count, encode, expandtabs, find, format, format_map,\r\n",
    "# index, ljust, lstrip, maketrans, partition, replace, rfind,  \r\n",
    "# rindex, rjust, rpartition, rstrip, splitlines, strip, translate, zfill,\r\n",
    "\r\n",
    "# Modifying string\r\n",
    "# capitalize, upper, [lower, casefold], title, swapcase, \r\n",
    "# split, rsplit, join,\r\n",
    "name = 'dilshad ahmad'\r\n",
    "capitalize_case = name.capitalize()\r\n",
    "upper_case = name.upper()\r\n",
    "lower_case = name.lower()\r\n",
    "title_case = name.title()\r\n",
    "split_string = name.split(' ')\r\n",
    "join_string = '_'.join(split_string)\r\n",
    "\r\n",
    "print(capitalize_case, lower_case, upper_case, title_case, split_string, join_string)\r\n",
    "print('Dilshad'.swapcase())\r\n",
    "\r\n",
    "# Testing string\r\n",
    "# isalnum,  isalpha,  isascii, isdecimal,  isdigit,  isidentifier,  islower,  \r\n",
    "# isnumeric,  isprintable,  isspace,  istitle,  isupper, startswith, endswith,\r\n",
    "print('asb23'.isalnum(), 'asb23#'.isalnum(), )\r\n",
    "\r\n",
    "# Formatting string\r\n",
    "my_str = 'My name is {name}'.format(name='Dilshad')\r\n",
    "msg1 = 'Number {a} is greater than {b}'.format(a=3, b=1)\r\n",
    "a = 2; b = 3\r\n",
    "msg2 = f'{a} is less than {b}'\r\n",
    "\r\n",
    "print(my_str)\r\n",
    "print(msg1)\r\n",
    "print(msg2)\r\n",
    "\r\n",
    "\r\n"
   ],
   "outputs": [
    {
     "output_type": "stream",
     "name": "stdout",
     "text": [
      "Dilshad ahmad dilshad ahmad DILSHAD AHMAD Dilshad Ahmad ['dilshad', 'ahmad'] dilshad_ahmad\n",
      "dILSHAD\n",
      "True False\n",
      "My name is Dilshad\n",
      "Number 3 is greater than 1\n",
      "2 is less than 3\n",
      "Hello\n",
      "['h', 'e', 'l', 'l', 'o']\n",
      "M\n",
      "name \n",
      "My name is Khan\n",
      "Dilshad Khan\n",
      "h\n",
      "e\n",
      "l\n",
      "l\n",
      "o\n"
     ]
    }
   ],
   "metadata": {}
  },
  {
   "cell_type": "code",
   "execution_count": 12,
   "source": [
    "# String as list\r\n",
    "print('Hello')\r\n",
    "print(list('hello'))\r\n",
    "my_name = 'My name is Dilshad'\r\n",
    "print(my_name[0])\r\n",
    "print(my_name[3:8])\r\n",
    "# my_name[0] = 'MY'\r\n",
    "print(my_name.replace('Dilshad', 'Khan'))\r\n",
    "\r\n",
    "first = 'Dilshad'\r\n",
    "last = 'Khan'\r\n",
    "name = first + ' ' + last\r\n",
    "print(name)\r\n",
    "\r\n",
    "#loop through string chars\r\n",
    "for i in 'hello':\r\n",
    "    print(i)\r\n",
    "\r\n",
    "num = 12\r\n",
    "print(f'{num}'.zfill(3))"
   ],
   "outputs": [
    {
     "output_type": "stream",
     "name": "stdout",
     "text": [
      "Hello\n",
      "['h', 'e', 'l', 'l', 'o']\n",
      "M\n",
      "name \n",
      "My name is Khan\n",
      "Dilshad Khan\n",
      "h\n",
      "e\n",
      "l\n",
      "l\n",
      "o\n",
      "012\n"
     ]
    }
   ],
   "metadata": {}
  },
  {
   "cell_type": "markdown",
   "source": [
    "### Iterators"
   ],
   "metadata": {}
  },
  {
   "cell_type": "code",
   "execution_count": 9,
   "source": [
    "# iterators have iter and next methods, list, tuple, string are iterable\r\n",
    "my_iter = iter([1,2,3])\r\n",
    "print(next(my_iter))\r\n",
    "print(next(my_iter))\r\n",
    "print(next(my_iter))\r\n",
    "print(type(my_iter))\r\n",
    "print(next(my_iter))\r\n",
    "\r\n",
    "your_iter = iter(range(30))\r\n",
    "print(next(your_iter))\r\n",
    "print(next(your_iter))\r\n",
    "print(next(your_iter))\r\n"
   ],
   "outputs": [
    {
     "output_type": "stream",
     "name": "stdout",
     "text": [
      "1\n",
      "2\n",
      "3\n",
      "<class 'list_iterator'>\n"
     ]
    },
    {
     "output_type": "error",
     "ename": "StopIteration",
     "evalue": "",
     "traceback": [
      "\u001b[1;31m---------------------------------------------------------------------------\u001b[0m",
      "\u001b[1;31mStopIteration\u001b[0m                             Traceback (most recent call last)",
      "\u001b[1;32m<ipython-input-9-c8fd16e28ff9>\u001b[0m in \u001b[0;36m<module>\u001b[1;34m\u001b[0m\n\u001b[0;32m      5\u001b[0m \u001b[0mprint\u001b[0m\u001b[1;33m(\u001b[0m\u001b[0mnext\u001b[0m\u001b[1;33m(\u001b[0m\u001b[0mmy_iter\u001b[0m\u001b[1;33m)\u001b[0m\u001b[1;33m)\u001b[0m\u001b[1;33m\u001b[0m\u001b[1;33m\u001b[0m\u001b[0m\n\u001b[0;32m      6\u001b[0m \u001b[0mprint\u001b[0m\u001b[1;33m(\u001b[0m\u001b[0mtype\u001b[0m\u001b[1;33m(\u001b[0m\u001b[0mmy_iter\u001b[0m\u001b[1;33m)\u001b[0m\u001b[1;33m)\u001b[0m\u001b[1;33m\u001b[0m\u001b[1;33m\u001b[0m\u001b[0m\n\u001b[1;32m----> 7\u001b[1;33m \u001b[0mprint\u001b[0m\u001b[1;33m(\u001b[0m\u001b[0mnext\u001b[0m\u001b[1;33m(\u001b[0m\u001b[0mmy_iter\u001b[0m\u001b[1;33m)\u001b[0m\u001b[1;33m)\u001b[0m\u001b[1;33m\u001b[0m\u001b[1;33m\u001b[0m\u001b[0m\n\u001b[0m\u001b[0;32m      8\u001b[0m \u001b[1;33m\u001b[0m\u001b[0m\n\u001b[0;32m      9\u001b[0m \u001b[0myour_iter\u001b[0m \u001b[1;33m=\u001b[0m \u001b[0miter\u001b[0m\u001b[1;33m(\u001b[0m\u001b[0mrange\u001b[0m\u001b[1;33m(\u001b[0m\u001b[1;36m30\u001b[0m\u001b[1;33m)\u001b[0m\u001b[1;33m)\u001b[0m\u001b[1;33m\u001b[0m\u001b[1;33m\u001b[0m\u001b[0m\n",
      "\u001b[1;31mStopIteration\u001b[0m: "
     ]
    }
   ],
   "metadata": {}
  },
  {
   "cell_type": "markdown",
   "source": [
    "### Dictionaries"
   ],
   "metadata": {}
  },
  {
   "cell_type": "code",
   "execution_count": 93,
   "source": [
    "# Creating Dictionaries\r\n",
    "v_card = dict(\r\n",
    "    Name = 'Dilshad Khan',\r\n",
    "    Address = 'Pune',\r\n",
    "    Pin = '411048',\r\n",
    ")\r\n",
    "print(v_card['Name'])\r\n",
    "print(v_card.get('Phone', 0))\r\n",
    "\r\n",
    "students ={ 'Mohammad Asad': {'Roll Number': 2134, 'Address':'Pune'},\r\n",
    "           'Abdullah Shaikh': {'Roll Number': 2135, 'Address':'Mumbai'}}\r\n",
    "print(students['Mohammad Asad']['Roll Number'])\r\n",
    "students['Mohammad Asad']['Roll Number'] = 2136\r\n",
    "print(students['Mohammad Asad']['Roll Number'])\r\n",
    "\r\n",
    "\r\n",
    "for func in dir(v_card):\r\n",
    "    print(func, end=', ')\r\n",
    "\r\n",
    "\r\n",
    "# clear, copy, fromkeys, get, items, keys, pop, popitem, setdefault, update, values\r\n",
    "#Accessing elements of dictionaries\r\n",
    "for key, value in v_card.items():\r\n",
    "    print(f'{key}: {value}')\r\n",
    "    "
   ],
   "outputs": [
    {
     "output_type": "stream",
     "name": "stdout",
     "text": [
      "Dilshad Khan\n",
      "0\n",
      "2134\n",
      "2136\n",
      "__class__, __contains__, __delattr__, __delitem__, __dir__, __doc__, __eq__, __format__, __ge__, __getattribute__, __getitem__, __gt__, __hash__, __init__, __init_subclass__, __iter__, __le__, __len__, __lt__, __ne__, __new__, __reduce__, __reduce_ex__, __repr__, __reversed__, __setattr__, __setitem__, __sizeof__, __str__, __subclasshook__, clear, copy, fromkeys, get, items, keys, pop, popitem, setdefault, update, values, Name: Dilshad Khan\n",
      "Address: Pune\n",
      "Pin: 411048\n"
     ]
    }
   ],
   "metadata": {}
  },
  {
   "cell_type": "code",
   "execution_count": 2,
   "source": [
    "# Creating dictionary from list with key as item and value as count of the item\r\n",
    "my_list = [1,2,3,4,4,3,4,1,2,4,5]\r\n",
    "my_dict={}\r\n",
    "\r\n",
    "for i in my_list:\r\n",
    "    my_dict[i] = my_list.count(i)\r\n",
    "\r\n",
    "my_dict"
   ],
   "outputs": [
    {
     "output_type": "execute_result",
     "data": {
      "text/plain": [
       "{1: 2, 2: 2, 3: 2, 4: 4, 5: 1}"
      ]
     },
     "metadata": {},
     "execution_count": 2
    }
   ],
   "metadata": {}
  },
  {
   "cell_type": "code",
   "execution_count": 34,
   "source": [
    "my_dict = {i:j for i, j in zip(['a','b'],[1,2])}\r\n",
    "print(my_dict)\r\n",
    "\r\n",
    "your_dict = {'c': 3, 'd': 4}\r\n",
    "\r\n",
    "print({**my_dict, **your_dict})\r\n",
    "\r\n",
    "my_dict.update(your_dict)\r\n",
    "\r\n",
    "print(my_dict)"
   ],
   "outputs": [
    {
     "output_type": "stream",
     "name": "stdout",
     "text": [
      "{'a': 1, 'b': 2}\n",
      "{'a': 1, 'b': 2, 'c': 3, 'd': 4}\n",
      "{'a': 1, 'b': 2, 'c': 3, 'd': 4}\n"
     ]
    }
   ],
   "metadata": {}
  },
  {
   "cell_type": "code",
   "execution_count": 21,
   "source": [
    "import string\r\n",
    "\r\n",
    "print(dir(string))\r\n",
    "print(string.ascii_letters)\r\n",
    "print(string.ascii_uppercase)\r\n",
    "print(string.ascii_lowercase)\r\n",
    "print(string.digits)\r\n",
    "print(string.capwords('dilshad ahmad'))\r\n",
    "\r\n",
    "index_val = {i:j for i,j in enumerate(list(string.ascii_lowercase))}\r\n",
    "print(index_val)\r\n"
   ],
   "outputs": [
    {
     "output_type": "stream",
     "name": "stdout",
     "text": [
      "['Formatter', 'Template', '_ChainMap', '_TemplateMetaclass', '__all__', '__builtins__', '__cached__', '__doc__', '__file__', '__loader__', '__name__', '__package__', '__spec__', '_re', '_sentinel_dict', '_string', 'ascii_letters', 'ascii_lowercase', 'ascii_uppercase', 'capwords', 'digits', 'hexdigits', 'octdigits', 'printable', 'punctuation', 'whitespace']\n",
      "abcdefghijklmnopqrstuvwxyzABCDEFGHIJKLMNOPQRSTUVWXYZ\n",
      "ABCDEFGHIJKLMNOPQRSTUVWXYZ\n",
      "abcdefghijklmnopqrstuvwxyz\n",
      "0123456789\n",
      "Dilshad Ahmad\n",
      "{0: 'a', 1: 'b', 2: 'c', 3: 'd', 4: 'e', 5: 'f', 6: 'g', 7: 'h', 8: 'i', 9: 'j', 10: 'k', 11: 'l', 12: 'm', 13: 'n', 14: 'o', 15: 'p', 16: 'q', 17: 'r', 18: 's', 19: 't', 20: 'u', 21: 'v', 22: 'w', 23: 'x', 24: 'y', 25: 'z'}\n"
     ]
    }
   ],
   "metadata": {}
  },
  {
   "cell_type": "code",
   "execution_count": null,
   "source": [],
   "outputs": [],
   "metadata": {}
  }
 ],
 "metadata": {
  "kernelspec": {
   "name": "python3",
   "display_name": "Python 3.8.7 64-bit (system)"
  },
  "language_info": {
   "codemirror_mode": {
    "name": "ipython",
    "version": 3
   },
   "file_extension": ".py",
   "mimetype": "text/x-python",
   "name": "python",
   "nbconvert_exporter": "python",
   "pygments_lexer": "ipython3",
   "version": "3.8.7"
  },
  "interpreter": {
   "hash": "ef35354d82397584f27d83d421f20ad793cad76ac7a25312cbe586add919b453"
  }
 },
 "nbformat": 4,
 "nbformat_minor": 5
}