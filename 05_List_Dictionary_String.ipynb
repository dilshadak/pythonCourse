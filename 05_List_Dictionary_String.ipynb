{
  "nbformat": 4,
  "nbformat_minor": 5,
  "metadata": {
    "kernelspec": {
      "name": "python3",
      "display_name": "Python 3.8.7 64-bit (system)"
    },
    "language_info": {
      "codemirror_mode": {
        "name": "ipython",
        "version": 3
      },
      "file_extension": ".py",
      "mimetype": "text/x-python",
      "name": "python",
      "nbconvert_exporter": "python",
      "pygments_lexer": "ipython3",
      "version": "3.8.7"
    },
    "interpreter": {
      "hash": "ef35354d82397584f27d83d421f20ad793cad76ac7a25312cbe586add919b453"
    },
    "colab": {
      "name": "05_List_Dictionary_String.ipynb",
      "provenance": [],
      "include_colab_link": true
    }
  },
  "cells": [
    {
      "cell_type": "markdown",
      "metadata": {
        "id": "view-in-github",
        "colab_type": "text"
      },
      "source": [
        "<a href=\"https://colab.research.google.com/github/dilshadak/pythonCourse/blob/main/05_List_Dictionary_String.ipynb\" target=\"_parent\"><img src=\"https://colab.research.google.com/assets/colab-badge.svg\" alt=\"Open In Colab\"/></a>"
      ]
    },
    {
      "cell_type": "markdown",
      "metadata": {
        "id": "zxj-axKEbyW5"
      },
      "source": [
        "### List and List Functions"
      ],
      "id": "zxj-axKEbyW5"
    },
    {
      "cell_type": "code",
      "metadata": {
        "id": "0nMTsr_2byW9"
      },
      "source": [
        "empty_list = [] # Empty list\n",
        "print(empty_list)\n",
        "print(type(my_list))\n",
        "\n",
        "other_empty_list = list()\n",
        "print(other_empty_list)\n",
        "print(type(other_empty_list))\n",
        "\n",
        "dir(list)"
      ],
      "id": "0nMTsr_2byW9",
      "execution_count": null,
      "outputs": []
    },
    {
      "cell_type": "code",
      "metadata": {
        "id": "gBTc7o9vbyW_"
      },
      "source": [
        "# 'append', 'add'\n",
        "\n",
        "x = [1, 2]\n",
        "\n",
        "x.append(3)\n",
        "\n",
        "print(x)\n",
        "\n",
        "x.append([4,5])\n",
        "\n",
        "print(x)\n",
        "\n",
        "y = x + x\n",
        "\n",
        "print(y)\n",
        "\n",
        "print([1,2,3] - [1,2])"
      ],
      "id": "gBTc7o9vbyW_",
      "execution_count": null,
      "outputs": []
    },
    {
      "cell_type": "code",
      "metadata": {
        "id": "qnd2WHWhbyXA"
      },
      "source": [
        "#  'index',\n",
        "x.index(2)"
      ],
      "id": "qnd2WHWhbyXA",
      "execution_count": null,
      "outputs": []
    },
    {
      "cell_type": "code",
      "metadata": {
        "id": "VqfjTuuZbyXA"
      },
      "source": [
        "#  'count',\n",
        "x.append(3)\n",
        "x.count(3)"
      ],
      "id": "VqfjTuuZbyXA",
      "execution_count": null,
      "outputs": []
    },
    {
      "cell_type": "code",
      "metadata": {
        "id": "WT4Km5j7byXB"
      },
      "source": [
        "#  'extend',\n",
        "x.extend([6, 5])\n",
        "x"
      ],
      "id": "WT4Km5j7byXB",
      "execution_count": null,
      "outputs": []
    },
    {
      "cell_type": "code",
      "metadata": {
        "id": "i1uhQZUdbyXB"
      },
      "source": [
        "#  'reverse', 'sort'\n",
        "x.reverse()\n",
        "x"
      ],
      "id": "i1uhQZUdbyXB",
      "execution_count": null,
      "outputs": []
    },
    {
      "cell_type": "code",
      "metadata": {
        "id": "1Vdo-5KPbyXC"
      },
      "source": [
        "#  'insert',\n",
        "x.insert(2,9)\n",
        "x"
      ],
      "id": "1Vdo-5KPbyXC",
      "execution_count": null,
      "outputs": []
    },
    {
      "cell_type": "code",
      "metadata": {
        "id": "BGeOrdnUbyXC"
      },
      "source": [
        "#  'copy',\n",
        "\n",
        "y = x.copy()\n",
        "y\n",
        "y.append(3)\n",
        "x"
      ],
      "id": "BGeOrdnUbyXC",
      "execution_count": null,
      "outputs": []
    },
    {
      "cell_type": "code",
      "metadata": {
        "id": "16a_a1npbyXD"
      },
      "source": [
        "#  'pop', 'remove', 'clear',\n",
        "\n",
        "x.pop(0)\n",
        "x.remove(3)\n",
        "x.clear()"
      ],
      "id": "16a_a1npbyXD",
      "execution_count": null,
      "outputs": []
    },
    {
      "cell_type": "markdown",
      "metadata": {
        "id": "Sv3xRd0VbyXD"
      },
      "source": [
        "### Getting List Elements"
      ],
      "id": "Sv3xRd0VbyXD"
    },
    {
      "cell_type": "code",
      "metadata": {
        "id": "RrDiU_eibyXE"
      },
      "source": [
        "x = [1,2,3,4,5,6]\n",
        "x[0]\n",
        "x[1:4]\n",
        "x[:3]\n",
        "x[4:]\n",
        "x[-1]\n",
        "x[-3:]"
      ],
      "id": "RrDiU_eibyXE",
      "execution_count": null,
      "outputs": []
    },
    {
      "cell_type": "markdown",
      "metadata": {
        "id": "kLz-cxKzbyXE"
      },
      "source": [
        "### Changing List Elements"
      ],
      "id": "kLz-cxKzbyXE"
    },
    {
      "cell_type": "code",
      "metadata": {
        "id": "o43LRMPObyXE"
      },
      "source": [
        "x[0] = 'a'\n",
        "x[1:3] = ['b','c']\n",
        "x"
      ],
      "id": "o43LRMPObyXE",
      "execution_count": null,
      "outputs": []
    },
    {
      "cell_type": "code",
      "metadata": {
        "id": "PMWcdVK1byXF"
      },
      "source": [
        "# Counting items\n",
        "x = [1,2,3,4,3,2,1,1]\n",
        "c1 = x.count(1)\n",
        "c1"
      ],
      "id": "PMWcdVK1byXF",
      "execution_count": null,
      "outputs": []
    },
    {
      "cell_type": "markdown",
      "metadata": {
        "id": "nAWhGDhXbyXF"
      },
      "source": [
        "### List comprehension"
      ],
      "id": "nAWhGDhXbyXF"
    },
    {
      "cell_type": "code",
      "metadata": {
        "id": "XBcdVwUNbyXF"
      },
      "source": [
        "# Range function\n",
        "for i in range(2, 20, 3):\n",
        "    print(i)\n",
        "\n",
        "list_odds = [ i for i in range(1, 10, 2)]\n",
        "print(list_odds)\n",
        "\n",
        "list_square = [i*2 for i in range(10)]\n",
        "print(list_square)\n",
        "\n",
        "filter_even = [i for i in range(10) if i%2 ==0]\n",
        "print(filter_even)"
      ],
      "id": "XBcdVwUNbyXF",
      "execution_count": null,
      "outputs": []
    },
    {
      "cell_type": "code",
      "metadata": {
        "id": "1eKmZXnXbyXF"
      },
      "source": [
        "# List of list\n",
        "\n",
        "list_of_list = [[i for i in range(3)] for j in range(4)]\n",
        "print(list_of_list)\n",
        "\n",
        "list_of_list_of_list = [[[i for i in range(3)] for j in range(4)] for k in range(5)] \n",
        "print(list_of_list_of_list)\n",
        "\n",
        "# Unpakcing list of list\n",
        "\n",
        "unpacked_list = [ i for j in list_of_list for i in j]\n",
        "\n",
        "print(unpacked_list)\n",
        "\n",
        "unpacked_list_of_list = [i for k in list_of_list_of_list for j in k for i in j]\n",
        "print(unpacked_list_of_list)"
      ],
      "id": "1eKmZXnXbyXF",
      "execution_count": null,
      "outputs": []
    },
    {
      "cell_type": "markdown",
      "metadata": {
        "id": "JkGN_kFabyXG"
      },
      "source": [
        "### String and String Functions"
      ],
      "id": "JkGN_kFabyXG"
    },
    {
      "cell_type": "code",
      "metadata": {
        "id": "V0mBGN_GbyXG"
      },
      "source": [
        "empty_str = str()\n",
        "empty_str_sq = '' \n",
        "string = 'abcdefgh'\n",
        "string\n",
        "function_list = dir(str)\n",
        "\n",
        "for f in function_list: print(f, end=',  ')"
      ],
      "id": "V0mBGN_GbyXG",
      "execution_count": null,
      "outputs": []
    },
    {
      "cell_type": "code",
      "metadata": {
        "id": "7jp4Sw5bbyXG"
      },
      "source": [
        "# center, count, encode, expandtabs, find, format, format_map,\n",
        "# index, ljust, lstrip, maketrans, partition, replace, rfind,  \n",
        "# rindex, rjust, rpartition, rstrip, splitlines, strip, translate, zfill,\n",
        "\n",
        "# Modifying string\n",
        "# capitalize, upper, [lower, casefold], title, swapcase, \n",
        "# split, rsplit, join,\n",
        "name = 'dilshad ahmad'\n",
        "capitalize_case = name.capitalize()\n",
        "upper_case = name.upper()\n",
        "lower_case = name.lower()\n",
        "title_case = name.title()\n",
        "split_string = name.split(' ')\n",
        "join_string = '_'.join(split_string)\n",
        "\n",
        "print(capitalize_case, lower_case, upper_case, title_case, split_string, join_string)\n",
        "print('Dilshad'.swapcase())\n",
        "\n",
        "# Testing string\n",
        "# isalnum,  isalpha,  isascii, isdecimal,  isdigit,  isidentifier,  islower,  \n",
        "# isnumeric,  isprintable,  isspace,  istitle,  isupper, startswith, endswith,\n",
        "print('asb23'.isalnum(), 'asb23#'.isalnum(), )\n",
        "\n",
        "# Formatting string\n",
        "my_str = 'My name is {name}'.format(name='Dilshad')\n",
        "msg1 = 'Number {a} is greater than {b}'.format(a=3, b=1)\n",
        "a = 2; b = 3\n",
        "msg2 = f'{a} is less than {b}'\n",
        "\n",
        "print(my_str)\n",
        "print(msg1)\n",
        "print(msg2)"
      ],
      "id": "7jp4Sw5bbyXG",
      "execution_count": null,
      "outputs": []
    },
    {
      "cell_type": "code",
      "metadata": {
        "id": "lpRBqufBbyXH"
      },
      "source": [
        "# String as list\n",
        "print('Hello')\n",
        "print(list('hello'))\n",
        "my_name = 'My name is Dilshad'\n",
        "print(my_name[0])\n",
        "print(my_name[3:8])\n",
        "# my_name[0] = 'MY'\n",
        "print(my_name.replace('Dilshad', 'Khan'))\n",
        "\n",
        "first = 'Dilshad'\n",
        "last = 'Khan'\n",
        "name = first + ' ' + last\n",
        "print(name)\n",
        "\n",
        "#loop through string chars\n",
        "for i in 'hello':\n",
        "    print(i)\n",
        "\n",
        "num = 12\n",
        "print(f'{num}'.zfill(3))"
      ],
      "id": "lpRBqufBbyXH",
      "execution_count": null,
      "outputs": []
    },
    {
      "cell_type": "markdown",
      "metadata": {
        "id": "NTflNNUybyXH"
      },
      "source": [
        "### Iterators"
      ],
      "id": "NTflNNUybyXH"
    },
    {
      "cell_type": "code",
      "metadata": {
        "id": "PVWHPVPRbyXH"
      },
      "source": [
        "# iterators have iter and next methods, list, tuple, string are iterable\n",
        "my_iter = iter([1,2,3])\n",
        "print(next(my_iter))\n",
        "print(next(my_iter))\n",
        "print(next(my_iter))\n",
        "print(type(my_iter))\n",
        "print(next(my_iter))\n",
        "\n",
        "your_iter = iter(range(30))\n",
        "print(next(your_iter))\n",
        "print(next(your_iter))\n",
        "print(next(your_iter))\n"
      ],
      "id": "PVWHPVPRbyXH",
      "execution_count": null,
      "outputs": []
    },
    {
      "cell_type": "markdown",
      "metadata": {
        "id": "HlNW2Y1YbyXI"
      },
      "source": [
        "### Dictionaries"
      ],
      "id": "HlNW2Y1YbyXI"
    },
    {
      "cell_type": "code",
      "metadata": {
        "id": "4OhvSTdybyXI"
      },
      "source": [
        "# Creating Dictionaries\n",
        "v_card = dict(\n",
        "    Name = 'Dilshad Khan',\n",
        "    Address = 'Pune',\n",
        "    Pin = '411048',\n",
        ")\n",
        "print(v_card['Name'])\n",
        "print(v_card.get('Phone', 0))\n",
        "\n",
        "students ={ 'Mohammad Asad': {'Roll Number': 2134, 'Address':'Pune'},\n",
        "           'Abdullah Shaikh': {'Roll Number': 2135, 'Address':'Mumbai'}}\n",
        "print(students['Mohammad Asad']['Roll Number'])\n",
        "students['Mohammad Asad']['Roll Number'] = 2136\n",
        "print(students['Mohammad Asad']['Roll Number'])\n",
        "\n",
        "for func in dir(v_card):\n",
        "    print(func, end=', ')\n",
        "\n",
        "# clear, copy, fromkeys, get, items, keys, pop, popitem, setdefault, update, values\n",
        "#Accessing elements of dictionaries\n",
        "for key, value in v_card.items():\n",
        "    print(f'{key}: {value}')\n",
        "    "
      ],
      "id": "4OhvSTdybyXI",
      "execution_count": null,
      "outputs": []
    },
    {
      "cell_type": "code",
      "metadata": {
        "id": "x_HnzIFKbyXI"
      },
      "source": [
        "# Creating dictionary from list with key as item and value as count of the item\n",
        "my_list = [1,2,3,4,4,3,4,1,2,4,5]\n",
        "my_dict={}\n",
        "\n",
        "for i in my_list:\n",
        "    my_dict[i] = my_list.count(i)\n",
        "\n",
        "my_dict"
      ],
      "id": "x_HnzIFKbyXI",
      "execution_count": null,
      "outputs": []
    },
    {
      "cell_type": "code",
      "metadata": {
        "id": "Rh9tYQgCbyXI"
      },
      "source": [
        "my_dict = {i:j for i, j in zip(['a','b'],[1,2])}\n",
        "print(my_dict)\n",
        "\n",
        "your_dict = {'c': 3, 'd': 4}\n",
        "\n",
        "print({**my_dict, **your_dict})\n",
        "\n",
        "my_dict.update(your_dict)\n",
        "\n",
        "print(my_dict)"
      ],
      "id": "Rh9tYQgCbyXI",
      "execution_count": null,
      "outputs": []
    },
    {
      "cell_type": "code",
      "metadata": {
        "id": "_RGY4misbyXI"
      },
      "source": [
        "import string\n",
        "\n",
        "print(dir(string))\n",
        "print(string.ascii_letters)\n",
        "print(string.ascii_uppercase)\n",
        "print(string.ascii_lowercase)\n",
        "print(string.digits)\n",
        "print(string.capwords('dilshad ahmad'))\n",
        "\n",
        "index_val = {i:j for i,j in enumerate(list(string.ascii_lowercase))}\n",
        "print(index_val)"
      ],
      "id": "_RGY4misbyXI",
      "execution_count": null,
      "outputs": []
    }
  ]
}