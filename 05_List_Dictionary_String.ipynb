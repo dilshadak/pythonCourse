{
 "cells": [
  {
   "cell_type": "markdown",
   "source": [
    "# Lists\r\n",
    "## Empty List"
   ],
   "metadata": {}
  },
  {
   "cell_type": "code",
   "execution_count": null,
   "source": [
    "empty_list = [] # Empty list\r\n",
    "print(empty_list)\r\n",
    "print(type(empty_list))\r\n",
    "\r\n",
    "# List by calling list function\r\n",
    "other_empty_list = list()\r\n",
    "print(other_empty_list)\r\n",
    "print(type(other_empty_list))\r\n"
   ],
   "outputs": [],
   "metadata": {}
  },
  {
   "cell_type": "markdown",
   "source": [
    "## List Functions"
   ],
   "metadata": {}
  },
  {
   "cell_type": "code",
   "execution_count": null,
   "source": [
    "# Help on list\r\n",
    "# help(list)\r\n",
    "# List functions\r\n",
    "# dir(list)"
   ],
   "outputs": [],
   "metadata": {}
  },
  {
   "cell_type": "code",
   "execution_count": null,
   "source": [
    "# 'append', 'add'\r\n",
    "\r\n",
    "x = [1, 2]\r\n",
    "\r\n",
    "x.append(3)\r\n",
    "\r\n",
    "print(x)\r\n",
    "\r\n",
    "x.append([4,5])\r\n",
    "\r\n",
    "print(x)\r\n",
    "\r\n",
    "y = x + x\r\n",
    "\r\n",
    "print(y)\r\n",
    "\r\n",
    "print([1,2,3] - [1,2])"
   ],
   "outputs": [],
   "metadata": {}
  },
  {
   "cell_type": "code",
   "execution_count": null,
   "source": [
    "#  'index'\r\n",
    "x = [1, 2, 3, 4, 5]\r\n",
    "x.index(2)"
   ],
   "outputs": [],
   "metadata": {}
  },
  {
   "cell_type": "code",
   "execution_count": null,
   "source": [
    "#  'count',\r\n",
    "\r\n",
    "x.append(3)\r\n",
    "\r\n",
    "x.count(3)"
   ],
   "outputs": [],
   "metadata": {}
  },
  {
   "cell_type": "code",
   "execution_count": null,
   "source": [
    "#  'extend',\r\n",
    "x.extend([6, 5])\r\n",
    "x"
   ],
   "outputs": [],
   "metadata": {}
  },
  {
   "cell_type": "code",
   "execution_count": null,
   "source": [
    "# 'reverse', 'sort'\r\n",
    "\r\n",
    "x = [1, 2, 3, 4, 5]\r\n",
    "# x.reverse()\r\n",
    "# x\r\n",
    "# Pythonic way\r\n",
    "\r\n",
    "x[::-1]"
   ],
   "outputs": [],
   "metadata": {}
  },
  {
   "cell_type": "code",
   "execution_count": null,
   "source": [
    "#  'insert',\r\n",
    "x.insert(2,9)\r\n",
    "x"
   ],
   "outputs": [],
   "metadata": {}
  },
  {
   "cell_type": "code",
   "execution_count": null,
   "source": [
    "#  'copy',\r\n",
    "\r\n",
    "y = x.copy()\r\n",
    "y\r\n",
    "y.append(3)\r\n",
    "x"
   ],
   "outputs": [],
   "metadata": {}
  },
  {
   "cell_type": "code",
   "execution_count": null,
   "source": [
    "#  'pop', 'remove', 'clear',\r\n",
    "x = [1, 2, 3, 4]\r\n",
    "x.pop(0)\r\n",
    "x.remove(3)\r\n",
    "x.clear()"
   ],
   "outputs": [],
   "metadata": {}
  },
  {
   "cell_type": "markdown",
   "source": [
    "## Accessing List Elements"
   ],
   "metadata": {}
  },
  {
   "cell_type": "code",
   "execution_count": null,
   "source": [
    "x = [1,2,3,4,5,6]\r\n",
    "x[0]\r\n",
    "x[1:4]\r\n",
    "x[:3]\r\n",
    "x[4:]\r\n",
    "x[-1]\r\n",
    "x[-3:]"
   ],
   "outputs": [],
   "metadata": {}
  },
  {
   "cell_type": "markdown",
   "source": [
    "## Changing List Elements"
   ],
   "metadata": {}
  },
  {
   "cell_type": "code",
   "execution_count": null,
   "source": [
    "x[0] = 'a'\r\n",
    "x[1:3] = ['b','c']\r\n",
    "x"
   ],
   "outputs": [],
   "metadata": {}
  },
  {
   "cell_type": "code",
   "execution_count": null,
   "source": [
    "# Counting items\r\n",
    "x = [1,2,3,4,3,2,1,1]\r\n",
    "c1 = x.count(1)\r\n",
    "c1"
   ],
   "outputs": [],
   "metadata": {}
  },
  {
   "cell_type": "markdown",
   "source": [
    "## List comprehension"
   ],
   "metadata": {}
  },
  {
   "cell_type": "code",
   "execution_count": null,
   "source": [
    "# Range function\r\n",
    "\r\n",
    "for i in range(2, 20, 3):\r\n",
    "    print(i)\r\n",
    "\r\n",
    "# List comprehension\r\n",
    "list_odds = [ i for i in range(1, 10, 2)]\r\n",
    "print(list_odds)\r\n",
    "\r\n",
    "# Manipulation while generating list\r\n",
    "list_square = [i*2 for i in range(10)]\r\n",
    "print(list_square)\r\n",
    "\r\n",
    "# Using if condition \r\n",
    "filter_even = [i for i in range(10) if i%2 == 0]\r\n",
    "print(filter_even)"
   ],
   "outputs": [],
   "metadata": {}
  },
  {
   "cell_type": "code",
   "execution_count": null,
   "source": [
    "# List of list\r\n",
    "\r\n",
    "list_of_list = [[i for i in range(3)] for j in range(4)]\r\n",
    "print(list_of_list)\r\n",
    "\r\n",
    "unpacked_list = [ i for j in list_of_list for i in j]\r\n",
    "\r\n",
    "print(unpacked_list)\r\n",
    "\r\n"
   ],
   "outputs": [],
   "metadata": {}
  },
  {
   "cell_type": "code",
   "execution_count": null,
   "source": [
    "# List of list of list\r\n",
    "\r\n",
    "list_of_list_of_list = [[[i for i in range(3)] for j in range(4)] for k in range(5)] \r\n",
    "print(list_of_list_of_list)\r\n",
    "\r\n",
    "unpacked_list_of_list = [i for k in list_of_list_of_list for j in k for i in j]\r\n",
    "print(unpacked_list_of_list)"
   ],
   "outputs": [],
   "metadata": {}
  },
  {
   "cell_type": "markdown",
   "source": [
    "## Tuple"
   ],
   "metadata": {}
  },
  {
   "cell_type": "code",
   "execution_count": null,
   "source": [
    "# Tuple help and tuple functions\r\n",
    "\r\n",
    "# help(tuple)\r\n",
    "\r\n",
    "# dir(tuple)"
   ],
   "outputs": [],
   "metadata": {}
  },
  {
   "cell_type": "code",
   "execution_count": null,
   "source": [
    "# Tuple functions\r\n",
    "t = (1, 2, 3, 4, 5, 4, 3, 2, 1, 2)\r\n",
    "t\r\n",
    "# t.count(2)\r\n",
    "# t.index(2)\r\n",
    "tp = t + t\r\n",
    "tup = t * 2\r\n",
    "len(tup)"
   ],
   "outputs": [],
   "metadata": {}
  },
  {
   "cell_type": "code",
   "execution_count": null,
   "source": [
    "# Accessing Tuple Elements\r\n",
    "t = (1, 2, 3, 4, 5)\r\n",
    "t[3]\r\n",
    "t[0:2]"
   ],
   "outputs": [],
   "metadata": {}
  },
  {
   "cell_type": "code",
   "execution_count": null,
   "source": [
    "# Tuple Comprehnesion\r\n",
    "my_tuple = tuple(i for i in range(5))\r\n",
    "my_tuple"
   ],
   "outputs": [],
   "metadata": {}
  },
  {
   "cell_type": "markdown",
   "source": [
    "## Set"
   ],
   "metadata": {}
  },
  {
   "cell_type": "code",
   "execution_count": null,
   "source": [
    "# Set help and Set functions\r\n",
    "\r\n",
    "# help(set)\r\n",
    "# dir(set)"
   ],
   "outputs": [],
   "metadata": {}
  },
  {
   "cell_type": "code",
   "execution_count": null,
   "source": [
    "# Set comprehension\r\n",
    "my_set = {i for i in range(3)}\r\n",
    "my_set"
   ],
   "outputs": [],
   "metadata": {}
  },
  {
   "cell_type": "markdown",
   "source": [
    "## String and String Functions"
   ],
   "metadata": {}
  },
  {
   "cell_type": "code",
   "execution_count": null,
   "source": [
    "empty_str = str()\r\n",
    "empty_str = ''\r\n",
    "empty_str = \"\"\r\n",
    "\r\n",
    "string = 'abcdefgh'\r\n",
    "string"
   ],
   "outputs": [],
   "metadata": {}
  },
  {
   "cell_type": "code",
   "execution_count": null,
   "source": [
    "# String functions\r\n",
    "\r\n",
    "function_list = dir(str)\r\n",
    "\r\n",
    "for f in function_list: print(f, end=',  ')\r\n"
   ],
   "outputs": [],
   "metadata": {}
  },
  {
   "cell_type": "code",
   "execution_count": null,
   "source": [
    "# String help\r\n",
    "# help(str)\r\n",
    "# help(str.isnumeric)"
   ],
   "outputs": [],
   "metadata": {}
  },
  {
   "cell_type": "code",
   "execution_count": null,
   "source": [
    "#String Properties\r\n",
    "\r\n",
    "# center, count, encode, expandtabs, find, format, format_map,\r\n",
    "# index, ljust, lstrip, maketrans, partition, replace, rfind,  \r\n",
    "# rindex, rjust, rpartition, rstrip, splitlines, strip, translate, zfill,\r\n",
    "\r\n",
    "x = '   abcd'\r\n",
    "x.strip()\r\n",
    "x.center(15)\r\n"
   ],
   "outputs": [],
   "metadata": {}
  },
  {
   "cell_type": "code",
   "execution_count": null,
   "source": [
    "# Modifying string\r\n",
    "\r\n",
    "# capitalize, upper, [lower, casefold], title, swapcase, \r\n",
    "# split, rsplit, join,\r\n",
    "\r\n",
    "name = 'dilshad ahmad'\r\n",
    "capitalize_case = name.capitalize()\r\n",
    "upper_case = name.upper()\r\n",
    "lower_case = name.lower()\r\n",
    "title_case = name.title()\r\n",
    "split_string = name.split(' ')\r\n",
    "join_string = '_'.join(split_string)\r\n",
    "\r\n",
    "print(capitalize_case, lower_case, upper_case, title_case, split_string, join_string)\r\n",
    "print('Dilshad'.swapcase())"
   ],
   "outputs": [],
   "metadata": {}
  },
  {
   "cell_type": "code",
   "execution_count": null,
   "source": [
    "# Testing string\r\n",
    "\r\n",
    "# isalnum,  isalpha,  isascii, isdecimal,  isdigit,  isidentifier,  islower,  \r\n",
    "# isnumeric,  isprintable,  isspace,  istitle,  isupper, startswith, endswith,\r\n",
    "print('asb23'.isalnum(), 'asb23#'.isalnum(), )\r\n",
    "\r\n"
   ],
   "outputs": [],
   "metadata": {}
  },
  {
   "cell_type": "code",
   "execution_count": null,
   "source": [
    "# Formatting string\r\n",
    "fstring1 = 'Value of a is {} and that of b is {}'.format(2, 3)\r\n",
    "fstring2 = 'Value of a is {} and that of b is {}'.format(3, 2)\r\n",
    "\r\n",
    "fstring3 = 'Value of a is {a} and that of b is {b}'.format(a = 3, b = 2)\r\n",
    "\r\n",
    "a = 2; b = 3\r\n",
    "fstring4 = f'{a} is less than {b}'\r\n",
    "\r\n",
    "# print(fstring1)\r\n",
    "# print(fstring2)\r\n",
    "# print(fstring3)\r\n",
    "print(fstring4)"
   ],
   "outputs": [],
   "metadata": {}
  },
  {
   "cell_type": "code",
   "execution_count": null,
   "source": [
    "# String as list\r\n",
    "print('Hello')\r\n",
    "print(list('hello'))\r\n",
    "my_name = 'My name is Dilshad'\r\n",
    "print(my_name[0])\r\n",
    "print(my_name[3:8])\r\n",
    "# my_name[0] = 'MY'\r\n",
    "print(my_name.replace('Dilshad', 'Khan'))"
   ],
   "outputs": [],
   "metadata": {}
  },
  {
   "cell_type": "code",
   "execution_count": null,
   "source": [
    "# Adding string\r\n",
    "first = 'Dilshad'\r\n",
    "last = 'Khan'\r\n",
    "name = first + ' ' + last\r\n",
    "print(name)"
   ],
   "outputs": [],
   "metadata": {}
  },
  {
   "cell_type": "code",
   "execution_count": null,
   "source": [
    "#loop through string chars\r\n",
    "for i in 'hello':\r\n",
    "    print(i)\r\n",
    "\r\n",
    "num = 12\r\n",
    "print(f'{num}'.zfill(3))"
   ],
   "outputs": [],
   "metadata": {}
  },
  {
   "cell_type": "markdown",
   "source": [
    "## String Module"
   ],
   "metadata": {}
  },
  {
   "cell_type": "code",
   "execution_count": null,
   "source": [
    "import string\r\n",
    "\r\n",
    "print(dir(string))"
   ],
   "outputs": [],
   "metadata": {}
  },
  {
   "cell_type": "code",
   "execution_count": null,
   "source": [
    "print(string.ascii_letters)\r\n",
    "print(string.ascii_uppercase)\r\n",
    "print(string.ascii_lowercase)\r\n",
    "print(string.capwords('dilshad ahmad'))"
   ],
   "outputs": [],
   "metadata": {}
  },
  {
   "cell_type": "code",
   "execution_count": null,
   "source": [
    "print(string.digits)"
   ],
   "outputs": [],
   "metadata": {}
  },
  {
   "cell_type": "code",
   "execution_count": 76,
   "source": [
    "index_val = {i:j for i,j in enumerate(list(string.ascii_lowercase))}\r\n",
    "print(index_val)"
   ],
   "outputs": [
    {
     "output_type": "stream",
     "name": "stdout",
     "text": [
      "{0: 'a', 1: 'b', 2: 'c', 3: 'd', 4: 'e', 5: 'f', 6: 'g', 7: 'h', 8: 'i', 9: 'j', 10: 'k', 11: 'l', 12: 'm', 13: 'n', 14: 'o', 15: 'p', 16: 'q', 17: 'r', 18: 's', 19: 't', 20: 'u', 21: 'v', 22: 'w', 23: 'x', 24: 'y', 25: 'z'}\n"
     ]
    }
   ],
   "metadata": {}
  },
  {
   "cell_type": "markdown",
   "source": [
    "## Dictionaries"
   ],
   "metadata": {}
  },
  {
   "cell_type": "code",
   "execution_count": null,
   "source": [
    "# Dictionary functions and help\r\n",
    "help(dict)\r\n",
    "\r\n",
    "for func in dir(dict):\r\n",
    "    print(func, end=', ')"
   ],
   "outputs": [],
   "metadata": {}
  },
  {
   "cell_type": "code",
   "execution_count": 82,
   "source": [
    "# Creating Dictionaries\r\n",
    "v_card = dict(\r\n",
    "    Name = 'Dilshad Khan',\r\n",
    "    Address = 'Pune',\r\n",
    "    Pin = '411048',\r\n",
    ")\r\n",
    "print(v_card['Name'])\r\n",
    "print(v_card.get('Phone', 0))"
   ],
   "outputs": [
    {
     "output_type": "stream",
     "name": "stdout",
     "text": [
      "Dilshad Khan\n",
      "0\n"
     ]
    }
   ],
   "metadata": {}
  },
  {
   "cell_type": "code",
   "execution_count": 84,
   "source": [
    "# clear, copy, fromkeys, get, items, keys, pop, popitem, setdefault, update, values\r\n",
    "phone = v_card['phone']\r\n",
    "# phone = v_card.get('phone', '')\r\n",
    "phone"
   ],
   "outputs": [
    {
     "output_type": "error",
     "ename": "KeyError",
     "evalue": "'phone'",
     "traceback": [
      "\u001b[1;31m---------------------------------------------------------------------------\u001b[0m",
      "\u001b[1;31mKeyError\u001b[0m                                  Traceback (most recent call last)",
      "\u001b[1;32m<ipython-input-84-5a0c68cf8ed6>\u001b[0m in \u001b[0;36m<module>\u001b[1;34m\u001b[0m\n\u001b[0;32m      1\u001b[0m \u001b[1;31m# clear, copy, fromkeys, get, items, keys, pop, popitem, setdefault, update, values\u001b[0m\u001b[1;33m\u001b[0m\u001b[1;33m\u001b[0m\u001b[1;33m\u001b[0m\u001b[0m\n\u001b[1;32m----> 2\u001b[1;33m \u001b[0mphone\u001b[0m \u001b[1;33m=\u001b[0m \u001b[0mv_card\u001b[0m\u001b[1;33m[\u001b[0m\u001b[1;34m'phone'\u001b[0m\u001b[1;33m]\u001b[0m\u001b[1;33m\u001b[0m\u001b[1;33m\u001b[0m\u001b[0m\n\u001b[0m\u001b[0;32m      3\u001b[0m \u001b[1;31m# phone = v_card.get('phone', '')\u001b[0m\u001b[1;33m\u001b[0m\u001b[1;33m\u001b[0m\u001b[1;33m\u001b[0m\u001b[0m\n\u001b[0;32m      4\u001b[0m \u001b[0mphone\u001b[0m\u001b[1;33m\u001b[0m\u001b[1;33m\u001b[0m\u001b[0m\n",
      "\u001b[1;31mKeyError\u001b[0m: 'phone'"
     ]
    }
   ],
   "metadata": {}
  },
  {
   "cell_type": "code",
   "execution_count": null,
   "source": [
    "# Modifying dictionary elements\r\n",
    "\r\n",
    "students ={ 'Mohammad Asad': {'Roll Number': 2134, 'Address':'Pune'},\r\n",
    "           'Abdullah Shaikh': {'Roll Number': 2135, 'Address':'Mumbai'}}\r\n",
    "\r\n",
    "print(students['Mohammad Asad']['Roll Number'])\r\n",
    "\r\n",
    "students['Mohammad Asad']['Roll Number'] = 2136\r\n",
    "\r\n",
    "print(students['Mohammad Asad']['Roll Number'])\r\n",
    "\r\n",
    "#Accessing elements of dictionaries\r\n",
    "for key, value in v_card.items():\r\n",
    "    print(f'{key}: {value}')"
   ],
   "outputs": [],
   "metadata": {}
  },
  {
   "cell_type": "code",
   "execution_count": null,
   "source": [
    "# Creating dictionary from list with key as item and value as count of the item\r\n",
    "my_list = [1,2,3,4,4,3,4,1,2,4,5]\r\n",
    "my_dict={}\r\n",
    "\r\n",
    "for i in my_list:\r\n",
    "    my_dict[i] = my_list.count(i)\r\n",
    "\r\n",
    "my_dict"
   ],
   "outputs": [],
   "metadata": {}
  },
  {
   "cell_type": "code",
   "execution_count": null,
   "source": [
    "# Dictionary Comprehension\r\n",
    "\r\n",
    "my_dict = {i:j for i, j in zip(['a','b'],[1,2])}\r\n",
    "print(my_dict)\r\n",
    "\r\n",
    "# Adding two dictionaries together\r\n",
    "your_dict = {'c': 3, 'd': 4}\r\n",
    "\r\n",
    "print({**my_dict, **your_dict})\r\n",
    "\r\n",
    "my_dict.update(your_dict)\r\n",
    "\r\n",
    "print(my_dict)"
   ],
   "outputs": [],
   "metadata": {}
  }
 ],
 "metadata": {
  "kernelspec": {
   "name": "python3",
   "display_name": "Python 3.8.7 64-bit (system)"
  },
  "language_info": {
   "codemirror_mode": {
    "name": "ipython",
    "version": 3
   },
   "file_extension": ".py",
   "mimetype": "text/x-python",
   "name": "python",
   "nbconvert_exporter": "python",
   "pygments_lexer": "ipython3",
   "version": "3.8.7"
  },
  "interpreter": {
   "hash": "ef35354d82397584f27d83d421f20ad793cad76ac7a25312cbe586add919b453"
  }
 },
 "nbformat": 4,
 "nbformat_minor": 5
}