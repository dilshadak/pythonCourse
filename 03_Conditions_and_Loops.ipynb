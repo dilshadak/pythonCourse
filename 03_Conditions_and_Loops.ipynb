{
 "cells": [
  {
   "cell_type": "markdown",
   "source": [
    "### Comparison Operators"
   ],
   "metadata": {}
  },
  {
   "cell_type": "code",
   "execution_count": null,
   "source": [
    "#Equal\n",
    "\n",
    "2 == 2\n"
   ],
   "outputs": [],
   "metadata": {}
  },
  {
   "cell_type": "code",
   "execution_count": null,
   "source": [
    "#Not equal\n",
    "\n",
    "2 != 3"
   ],
   "outputs": [],
   "metadata": {}
  },
  {
   "cell_type": "code",
   "execution_count": null,
   "source": [
    "# Greater than\n",
    "\n",
    "2 > 3"
   ],
   "outputs": [],
   "metadata": {}
  },
  {
   "cell_type": "code",
   "execution_count": null,
   "source": [
    "# Less than\n",
    "\n",
    "4 < 5"
   ],
   "outputs": [],
   "metadata": {}
  },
  {
   "cell_type": "code",
   "execution_count": null,
   "source": [
    "#Greater than or equal to\r\n",
    "\r\n",
    "4 >= 2"
   ],
   "outputs": [],
   "metadata": {}
  },
  {
   "cell_type": "code",
   "execution_count": null,
   "source": [
    "# Less than or equal to\r\n",
    "\r\n",
    "4 <=1"
   ],
   "outputs": [],
   "metadata": {}
  },
  {
   "cell_type": "markdown",
   "source": [
    "### Logical Operators"
   ],
   "metadata": {}
  },
  {
   "cell_type": "code",
   "execution_count": null,
   "source": [
    "# Logical 'and'\r\n",
    "\r\n",
    "2 == 2 and 2 < 3"
   ],
   "outputs": [],
   "metadata": {}
  },
  {
   "cell_type": "code",
   "execution_count": null,
   "source": [
    "# Logical 'or'\r\n",
    "\r\n",
    "2 < 1 or 4 > 2"
   ],
   "outputs": [],
   "metadata": {}
  },
  {
   "cell_type": "code",
   "execution_count": null,
   "source": [
    "# Logical negation 'not'\r\n",
    "\r\n",
    "not 4 < 2"
   ],
   "outputs": [],
   "metadata": {}
  },
  {
   "cell_type": "markdown",
   "source": [
    "### Identity Operators\n",
    "   "
   ],
   "metadata": {}
  },
  {
   "cell_type": "code",
   "execution_count": null,
   "source": [
    "type('a') is type('b')\r\n",
    "\r\n",
    "type('a') is not type(1)\r\n"
   ],
   "outputs": [],
   "metadata": {}
  },
  {
   "cell_type": "markdown",
   "source": [
    "### Membership operator"
   ],
   "metadata": {}
  },
  {
   "cell_type": "code",
   "execution_count": null,
   "source": [
    "1 in [1,2,3]\r\n",
    "3 not in {2,4}\r\n",
    "4 in ('a', 'b')"
   ],
   "outputs": [],
   "metadata": {}
  },
  {
   "cell_type": "markdown",
   "source": [
    "### if condition"
   ],
   "metadata": {}
  },
  {
   "cell_type": "code",
   "execution_count": null,
   "source": [
    "if 2 > 1:\r\n",
    "    print(True)\r\n",
    "    \r\n",
    "if 1 in [1,2,3]:\r\n",
    "    print('Found')"
   ],
   "outputs": [],
   "metadata": {}
  },
  {
   "cell_type": "code",
   "execution_count": 7,
   "source": [
    "if 1 > 2:\r\n",
    "    print ('1 is not greater than 2')\r\n",
    "else:\r\n",
    "    print('1 is less than 2')\r\n",
    "\r\n",
    "a = 3\r\n",
    "b = 4\r\n",
    "if a > b:\r\n",
    "    print(a,'is greater than', b)\r\n",
    "elif a < b:\r\n",
    "    print(a,'is less than', b)\r\n",
    "elif a == b:\r\n",
    "    print(a,'is equal to', b)\r\n",
    "else:\r\n",
    "    print('comparison between', a, 'and', b, 'is not defined')\r\n",
    "    "
   ],
   "outputs": [
    {
     "output_type": "stream",
     "name": "stdout",
     "text": [
      "1 is less than 2\n",
      "3 is less than 4\n"
     ]
    }
   ],
   "metadata": {}
  },
  {
   "cell_type": "code",
   "execution_count": 2,
   "source": [
    "# if conditions in a line\r\n",
    "y = 0\r\n",
    "x = 1 if y > 1 else 0\r\n",
    "print(x)"
   ],
   "outputs": [
    {
     "output_type": "stream",
     "name": "stdout",
     "text": [
      "0\n"
     ]
    }
   ],
   "metadata": {}
  },
  {
   "cell_type": "markdown",
   "source": [
    "### for loop"
   ],
   "metadata": {}
  },
  {
   "cell_type": "code",
   "execution_count": null,
   "source": [
    "for i in [1,2,3]:\r\n",
    "    print(i)"
   ],
   "outputs": [],
   "metadata": {}
  },
  {
   "cell_type": "code",
   "execution_count": null,
   "source": [
    "for i in range(10):\r\n",
    "    print (i*2, end=', ')\r\n",
    "else:\r\n",
    "    print('Done')\r\n",
    "        "
   ],
   "outputs": [],
   "metadata": {}
  },
  {
   "cell_type": "code",
   "execution_count": null,
   "source": [
    "# Filter even and odd numbers from 0 to 10\r\n",
    "for i in range(11):\r\n",
    "    if i%2==0:\r\n",
    "        print(i, 'is even number')\r\n",
    "    else:\r\n",
    "        print(i, 'is odd number')"
   ],
   "outputs": [],
   "metadata": {}
  },
  {
   "cell_type": "markdown",
   "source": [
    "### While loop"
   ],
   "metadata": {}
  },
  {
   "cell_type": "code",
   "execution_count": null,
   "source": [
    "i = 0\r\n",
    "while i < 10:\r\n",
    "    print(i)\r\n",
    "    i +=1"
   ],
   "outputs": [],
   "metadata": {}
  },
  {
   "cell_type": "markdown",
   "source": [
    "## Odd Even Game"
   ],
   "metadata": {}
  },
  {
   "cell_type": "code",
   "execution_count": 14,
   "source": [
    "instructions = '''Rules: \r\n",
    "1. Type numbers as asked by computer\r\n",
    "2. Tye 0 for even, 1 for odd\r\n",
    "3. If your answer is correct then you win\r\n",
    "4. Type \"-1\" to quit the game\r\n",
    "'''\r\n",
    "print(instructions)\r\n",
    "    \r\n",
    "for _ in range(100):\r\n",
    "      \r\n",
    "    number = int(input('Type Number: '))\r\n",
    "    if number == -1:\r\n",
    "        break\r\n",
    "    evenodd = int(input(f'{number} is Even/Odd Type 0/1: '))\r\n",
    "    \r\n",
    "    if number % 2 == 0 and evenodd == 0 :\r\n",
    "        print(f'Yes, Number {number} is even, You Won !')\r\n",
    "        \r\n",
    "    elif number % 2 == 1 and evenodd == 1 :\r\n",
    "        print(f'Yes, Number {number} is odd, You Won !')\r\n",
    "        \r\n",
    "    elif number % 2 == 0 and evenodd == 1 :\r\n",
    "        print(f'No, Number {number} is even, You Lost :(')\r\n",
    "        \r\n",
    "    elif number % 2 == 1 and evenodd == 0 :\r\n",
    "        print(f'No, Number {number} is odd, You Lost :(')\r\n",
    "        \r\n",
    "    else:\r\n",
    "        print('In valid option type 0 or 1 only, Exiting')\r\n",
    "        \r\n",
    "        break\r\n",
    "        \r\n",
    "    \r\n"
   ],
   "outputs": [
    {
     "output_type": "stream",
     "name": "stdout",
     "text": [
      "Rules: \n",
      "1. Type numbers as asked by computer\n",
      "2. Tye 0 for even, 1 for odd\n",
      "3. If your answer is correct then you win\n",
      "4. Type \"-1\" to quit the game\n",
      "\n",
      "Type Number: 23\n",
      "23 is Even/Odd Type 0/1: 1\n",
      "Yes, Number 23 is odd, You Won !\n",
      "Type Number: 323\n",
      "323 is Even/Odd Type 0/1: 1\n",
      "Yes, Number 323 is odd, You Won !\n",
      "Type Number: 323\n",
      "323 is Even/Odd Type 0/1: 1\n",
      "Yes, Number 323 is odd, You Won !\n",
      "Type Number: 3\n",
      "3 is Even/Odd Type 0/1: 2\n",
      "In valid option type 0 or 1 only, Exiting\n"
     ]
    }
   ],
   "metadata": {}
  },
  {
   "cell_type": "code",
   "execution_count": null,
   "source": [],
   "outputs": [],
   "metadata": {}
  }
 ],
 "metadata": {
  "kernelspec": {
   "name": "python3",
   "display_name": "Python 3.8.7 64-bit (system)"
  },
  "language_info": {
   "codemirror_mode": {
    "name": "ipython",
    "version": 3
   },
   "file_extension": ".py",
   "mimetype": "text/x-python",
   "name": "python",
   "nbconvert_exporter": "python",
   "pygments_lexer": "ipython3",
   "version": "3.8.7"
  },
  "interpreter": {
   "hash": "ef35354d82397584f27d83d421f20ad793cad76ac7a25312cbe586add919b453"
  }
 },
 "nbformat": 4,
 "nbformat_minor": 5
}