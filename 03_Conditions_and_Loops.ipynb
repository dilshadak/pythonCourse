{
  "nbformat": 4,
  "nbformat_minor": 5,
  "metadata": {
    "kernelspec": {
      "name": "python3",
      "display_name": "Python 3.8.7 64-bit (system)"
    },
    "language_info": {
      "codemirror_mode": {
        "name": "ipython",
        "version": 3
      },
      "file_extension": ".py",
      "mimetype": "text/x-python",
      "name": "python",
      "nbconvert_exporter": "python",
      "pygments_lexer": "ipython3",
      "version": "3.8.7"
    },
    "interpreter": {
      "hash": "ef35354d82397584f27d83d421f20ad793cad76ac7a25312cbe586add919b453"
    },
    "colab": {
      "name": "03_Conditions_and_Loops.ipynb",
      "provenance": [],
      "collapsed_sections": [],
      "include_colab_link": true
    }
  },
  "cells": [
    {
      "cell_type": "markdown",
      "metadata": {
        "id": "view-in-github",
        "colab_type": "text"
      },
      "source": [
        "<a href=\"https://colab.research.google.com/github/dilshadak/pythonCourse/blob/main/03_Conditions_and_Loops.ipynb\" target=\"_parent\"><img src=\"https://colab.research.google.com/assets/colab-badge.svg\" alt=\"Open In Colab\"/></a>"
      ]
    },
    {
      "cell_type": "markdown",
      "metadata": {
        "id": "wiuvhWnw8Wov"
      },
      "source": [
        "### Comparison Operators"
      ],
      "id": "wiuvhWnw8Wov"
    },
    {
      "cell_type": "code",
      "metadata": {
        "id": "SUxnIuFr8Wo1"
      },
      "source": [
        "#Equal\n",
        "\n",
        "2 == 2\n"
      ],
      "id": "SUxnIuFr8Wo1",
      "execution_count": null,
      "outputs": []
    },
    {
      "cell_type": "code",
      "metadata": {
        "id": "iJUprhVx8Wo4"
      },
      "source": [
        "#Not equal\n",
        "\n",
        "2 != 3"
      ],
      "id": "iJUprhVx8Wo4",
      "execution_count": null,
      "outputs": []
    },
    {
      "cell_type": "code",
      "metadata": {
        "id": "H9AOdK5q8Wo5"
      },
      "source": [
        "# Greater than\n",
        "\n",
        "2 > 3"
      ],
      "id": "H9AOdK5q8Wo5",
      "execution_count": null,
      "outputs": []
    },
    {
      "cell_type": "code",
      "metadata": {
        "id": "BT0azHdZ8Wo6"
      },
      "source": [
        "# Less than\n",
        "\n",
        "4 < 5"
      ],
      "id": "BT0azHdZ8Wo6",
      "execution_count": null,
      "outputs": []
    },
    {
      "cell_type": "code",
      "metadata": {
        "id": "83L5ZWXV8Wo7"
      },
      "source": [
        "#Greater than or equal to\n",
        "\n",
        "4 >= 2"
      ],
      "id": "83L5ZWXV8Wo7",
      "execution_count": null,
      "outputs": []
    },
    {
      "cell_type": "code",
      "metadata": {
        "id": "s8ljMiWu8Wo7"
      },
      "source": [
        "# Less than or equal to\n",
        "\n",
        "4 <=1"
      ],
      "id": "s8ljMiWu8Wo7",
      "execution_count": null,
      "outputs": []
    },
    {
      "cell_type": "markdown",
      "metadata": {
        "id": "qtp2uovf8Wo8"
      },
      "source": [
        "### Logical Operators"
      ],
      "id": "qtp2uovf8Wo8"
    },
    {
      "cell_type": "code",
      "metadata": {
        "colab": {
          "base_uri": "https://localhost:8080/"
        },
        "id": "W9C99L5f8Wo9",
        "outputId": "4a2acb5e-121b-4993-da29-429d406546e3"
      },
      "source": [
        "# Logical 'and'\n",
        " \n",
        "2 == 2 and 2 < 3"
      ],
      "id": "W9C99L5f8Wo9",
      "execution_count": null,
      "outputs": [
        {
          "output_type": "execute_result",
          "data": {
            "text/plain": [
              "True"
            ]
          },
          "metadata": {},
          "execution_count": 1
        }
      ]
    },
    {
      "cell_type": "code",
      "metadata": {
        "id": "t-t-zz9b8Wo9"
      },
      "source": [
        "# Logical 'or'\n",
        "\n",
        "2 < 1 or 4 > 2"
      ],
      "id": "t-t-zz9b8Wo9",
      "execution_count": null,
      "outputs": []
    },
    {
      "cell_type": "code",
      "metadata": {
        "id": "bd2cWeZu8Wo9"
      },
      "source": [
        "# Logical negation 'not'\n",
        "\n",
        "not 4 < 2"
      ],
      "id": "bd2cWeZu8Wo9",
      "execution_count": null,
      "outputs": []
    },
    {
      "cell_type": "markdown",
      "metadata": {
        "id": "Q5j8PjpA8Wo-"
      },
      "source": [
        "### Identity Operators\n",
        "   "
      ],
      "id": "Q5j8PjpA8Wo-"
    },
    {
      "cell_type": "code",
      "metadata": {
        "id": "eqCdQ7Uc8Wo_"
      },
      "source": [
        "type('a') is type('b')\n",
        "\n",
        "type('a') is not type(1)\n"
      ],
      "id": "eqCdQ7Uc8Wo_",
      "execution_count": null,
      "outputs": []
    },
    {
      "cell_type": "markdown",
      "metadata": {
        "id": "7BgW5XHl8Wo_"
      },
      "source": [
        "### Membership operator"
      ],
      "id": "7BgW5XHl8Wo_"
    },
    {
      "cell_type": "code",
      "metadata": {
        "id": "hZmOpWrr8Wo_"
      },
      "source": [
        "1 in [1,2,3]\n",
        "3 not in {2,4}\n",
        "4 in ('a', 'b')"
      ],
      "id": "hZmOpWrr8Wo_",
      "execution_count": null,
      "outputs": []
    },
    {
      "cell_type": "markdown",
      "metadata": {
        "id": "a9rDWU-_8WpA"
      },
      "source": [
        "### if condition"
      ],
      "id": "a9rDWU-_8WpA"
    },
    {
      "cell_type": "code",
      "metadata": {
        "id": "APi4UZpp8WpA"
      },
      "source": [
        "if 2 > 1:\n",
        "    print(True)\n",
        "    \n",
        "if 1 in [1,2,3]:\n",
        "    print('Found')"
      ],
      "id": "APi4UZpp8WpA",
      "execution_count": null,
      "outputs": []
    },
    {
      "cell_type": "code",
      "metadata": {
        "id": "fudhztuE8WpB",
        "outputId": "e5b7d55b-d1fa-4053-e038-37907ae2b705"
      },
      "source": [
        "if 1 > 2:\n",
        "    print ('1 is not greater than 2')\n",
        "else:\n",
        "    print('1 is less than 2')\n",
        "\n",
        "a = 3\n",
        "b = 4\n",
        "if a > b:\n",
        "    print(a,'is greater than', b)\n",
        "elif a < b:\n",
        "    print(a,'is less than', b)\n",
        "elif a == b:\n",
        "    print(a,'is equal to', b)\n",
        "else:\n",
        "    print('comparison between', a, 'and', b, 'is not defined')\n",
        "    "
      ],
      "id": "fudhztuE8WpB",
      "execution_count": null,
      "outputs": [
        {
          "output_type": "stream",
          "name": "stdout",
          "text": [
            "1 is less than 2\n",
            "3 is less than 4\n"
          ]
        }
      ]
    },
    {
      "cell_type": "code",
      "metadata": {
        "id": "7wH8XeEI8WpD",
        "outputId": "88430da0-1f41-4c95-d872-48a9845d1aba"
      },
      "source": [
        "# if conditions in a line\n",
        "y = 0\n",
        "x = 1 if y > 1 else 0\n",
        "print(x)"
      ],
      "id": "7wH8XeEI8WpD",
      "execution_count": null,
      "outputs": [
        {
          "output_type": "stream",
          "name": "stdout",
          "text": [
            "0\n"
          ]
        }
      ]
    },
    {
      "cell_type": "markdown",
      "metadata": {
        "id": "I4xGeEoz8WpE"
      },
      "source": [
        "### for loop"
      ],
      "id": "I4xGeEoz8WpE"
    },
    {
      "cell_type": "code",
      "metadata": {
        "id": "O7QA9ybC8WpE"
      },
      "source": [
        "for i in [1,2,3]:\n",
        "    print(i)"
      ],
      "id": "O7QA9ybC8WpE",
      "execution_count": null,
      "outputs": []
    },
    {
      "cell_type": "code",
      "metadata": {
        "id": "EyZSM__C8WpF"
      },
      "source": [
        "for i in range(10):\n",
        "    print (i*2, end=', ')\n",
        "else:\n",
        "    print('Done')\n",
        "        "
      ],
      "id": "EyZSM__C8WpF",
      "execution_count": null,
      "outputs": []
    },
    {
      "cell_type": "code",
      "metadata": {
        "id": "EivCIXtk8WpF"
      },
      "source": [
        "# Filter even and odd numbers from 0 to 10\n",
        "for i in range(11):\n",
        "    if i%2==0:\n",
        "        print(i, 'is even number')\n",
        "    else:\n",
        "        print(i, 'is odd number')"
      ],
      "id": "EivCIXtk8WpF",
      "execution_count": null,
      "outputs": []
    },
    {
      "cell_type": "markdown",
      "metadata": {
        "id": "v5D-zYjc8WpF"
      },
      "source": [
        "### While loop"
      ],
      "id": "v5D-zYjc8WpF"
    },
    {
      "cell_type": "code",
      "metadata": {
        "id": "Yf7uZR8i8WpG"
      },
      "source": [
        "i = 0\n",
        "while i < 10:\n",
        "    print(i)\n",
        "    i +=1"
      ],
      "id": "Yf7uZR8i8WpG",
      "execution_count": null,
      "outputs": []
    },
    {
      "cell_type": "markdown",
      "metadata": {
        "id": "35-UKLtx8WpG"
      },
      "source": [
        "## Odd Even Game"
      ],
      "id": "35-UKLtx8WpG"
    },
    {
      "cell_type": "code",
      "metadata": {
        "id": "qpPWXOZS8WpG",
        "outputId": "7af7b1a9-9d15-4309-effe-bb1a847f84d9"
      },
      "source": [
        "instructions = '''Rules: \n",
        "1. Type numbers as asked by computer\n",
        "2. Tye 0 for even, 1 for odd\n",
        "3. If your answer is correct then you win\n",
        "4. Type \"-1\" to quit the game\n",
        "'''\n",
        "print(instructions)\n",
        "    \n",
        "for _ in range(100):\n",
        "      \n",
        "    number = int(input('Type Number: '))\n",
        "    if number == -1:\n",
        "        break\n",
        "    evenodd = int(input(f'{number} is Even/Odd Type 0/1: '))\n",
        "    \n",
        "    if number % 2 == 0 and evenodd == 0 :\n",
        "        print(f'Yes, Number {number} is even, You Won !')\n",
        "        \n",
        "    elif number % 2 == 1 and evenodd == 1 :\n",
        "        print(f'Yes, Number {number} is odd, You Won !')\n",
        "        \n",
        "    elif number % 2 == 0 and evenodd == 1 :\n",
        "        print(f'No, Number {number} is even, You Lost :(')\n",
        "        \n",
        "    elif number % 2 == 1 and evenodd == 0 :\n",
        "        print(f'No, Number {number} is odd, You Lost :(')\n",
        "        \n",
        "    else:\n",
        "        print('In valid option type 0 or 1 only, Exiting')\n",
        "        \n",
        "        break\n",
        "        \n",
        "    \n"
      ],
      "id": "qpPWXOZS8WpG",
      "execution_count": null,
      "outputs": [
        {
          "output_type": "stream",
          "name": "stdout",
          "text": [
            "Rules: \n",
            "1. Type numbers as asked by computer\n",
            "2. Tye 0 for even, 1 for odd\n",
            "3. If your answer is correct then you win\n",
            "4. Type \"-1\" to quit the game\n",
            "\n",
            "Type Number: 23\n",
            "23 is Even/Odd Type 0/1: 1\n",
            "Yes, Number 23 is odd, You Won !\n",
            "Type Number: 323\n",
            "323 is Even/Odd Type 0/1: 1\n",
            "Yes, Number 323 is odd, You Won !\n",
            "Type Number: 323\n",
            "323 is Even/Odd Type 0/1: 1\n",
            "Yes, Number 323 is odd, You Won !\n",
            "Type Number: 3\n",
            "3 is Even/Odd Type 0/1: 2\n",
            "In valid option type 0 or 1 only, Exiting\n"
          ]
        }
      ]
    },
    {
      "cell_type": "code",
      "metadata": {
        "id": "rIxATh_G8WpH"
      },
      "source": [
        ""
      ],
      "id": "rIxATh_G8WpH",
      "execution_count": null,
      "outputs": []
    }
  ]
}