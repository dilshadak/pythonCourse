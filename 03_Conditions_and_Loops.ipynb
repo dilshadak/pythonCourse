{
  "nbformat": 4,
  "nbformat_minor": 5,
  "metadata": {
    "kernelspec": {
      "name": "python3",
      "display_name": "Python 3.8.7 64-bit (system)"
    },
    "language_info": {
      "codemirror_mode": {
        "name": "ipython",
        "version": 3
      },
      "file_extension": ".py",
      "mimetype": "text/x-python",
      "name": "python",
      "nbconvert_exporter": "python",
      "pygments_lexer": "ipython3",
      "version": "3.8.7"
    },
    "interpreter": {
      "hash": "ef35354d82397584f27d83d421f20ad793cad76ac7a25312cbe586add919b453"
    },
    "colab": {
      "name": "03_Conditions_and_Loops.ipynb",
      "provenance": [],
      "include_colab_link": true
    }
  },
  "cells": [
    {
      "cell_type": "markdown",
      "metadata": {
        "id": "view-in-github",
        "colab_type": "text"
      },
      "source": [
        "<a href=\"https://colab.research.google.com/github/dilshadak/pythonCourse/blob/main/03_Conditions_and_Loops.ipynb\" target=\"_parent\"><img src=\"https://colab.research.google.com/assets/colab-badge.svg\" alt=\"Open In Colab\"/></a>"
      ]
    },
    {
      "cell_type": "markdown",
      "metadata": {
        "id": "ZodmV7FYa8mE"
      },
      "source": [
        "### Comparison Operators"
      ],
      "id": "ZodmV7FYa8mE"
    },
    {
      "cell_type": "code",
      "metadata": {
        "id": "xmAXUxnIa8mM"
      },
      "source": [
        "# Equal\n",
        "\n",
        "2 == 2\n"
      ],
      "id": "xmAXUxnIa8mM",
      "execution_count": null,
      "outputs": []
    },
    {
      "cell_type": "code",
      "metadata": {
        "id": "vI9JPmlia8mP"
      },
      "source": [
        "# Not equal\n",
        "\n",
        "2 != 3"
      ],
      "id": "vI9JPmlia8mP",
      "execution_count": null,
      "outputs": []
    },
    {
      "cell_type": "code",
      "metadata": {
        "id": "QPP6VVWoa8mQ"
      },
      "source": [
        "# Greater than\n",
        "\n",
        "2 > 3"
      ],
      "id": "QPP6VVWoa8mQ",
      "execution_count": null,
      "outputs": []
    },
    {
      "cell_type": "code",
      "metadata": {
        "id": "onqb3qzsa8mS"
      },
      "source": [
        "# Less than\n",
        "\n",
        "4 < 5"
      ],
      "id": "onqb3qzsa8mS",
      "execution_count": null,
      "outputs": []
    },
    {
      "cell_type": "code",
      "metadata": {
        "id": "cAdOLQSZa8mT"
      },
      "source": [
        "# Greater than or equal to\n",
        "\n",
        "4 >= 2"
      ],
      "id": "cAdOLQSZa8mT",
      "execution_count": null,
      "outputs": []
    },
    {
      "cell_type": "code",
      "metadata": {
        "id": "m8vqJUpVa8mU"
      },
      "source": [
        "# Less than or equal to\n",
        "\n",
        "4 <=1"
      ],
      "id": "m8vqJUpVa8mU",
      "execution_count": null,
      "outputs": []
    },
    {
      "cell_type": "markdown",
      "metadata": {
        "id": "_UDsZV8Ra8mV"
      },
      "source": [
        "### Logical Operators"
      ],
      "id": "_UDsZV8Ra8mV"
    },
    {
      "cell_type": "code",
      "metadata": {
        "id": "9UrsvN3Ia8mX"
      },
      "source": [
        "# Logical 'and'\n",
        "\n",
        "2 == 2 and 2 < 3"
      ],
      "id": "9UrsvN3Ia8mX",
      "execution_count": null,
      "outputs": []
    },
    {
      "cell_type": "code",
      "metadata": {
        "id": "CQ6XcwTNa8mZ"
      },
      "source": [
        "# Logical 'or'\n",
        "\n",
        "2 < 1 or 4 > 2"
      ],
      "id": "CQ6XcwTNa8mZ",
      "execution_count": null,
      "outputs": []
    },
    {
      "cell_type": "code",
      "metadata": {
        "id": "FSniqOkZa8ma"
      },
      "source": [
        "# Logical negation 'not'\n",
        "\n",
        "not 4 < 2"
      ],
      "id": "FSniqOkZa8ma",
      "execution_count": null,
      "outputs": []
    },
    {
      "cell_type": "markdown",
      "metadata": {
        "id": "blYHt2kZa8mb"
      },
      "source": [
        "### Identity Operators\n",
        "   "
      ],
      "id": "blYHt2kZa8mb"
    },
    {
      "cell_type": "code",
      "metadata": {
        "id": "xDqYhpf3a8mb"
      },
      "source": [
        "type('a') is type('b')\n",
        "\n",
        "type('a') is not type(1)\n"
      ],
      "id": "xDqYhpf3a8mb",
      "execution_count": null,
      "outputs": []
    },
    {
      "cell_type": "markdown",
      "metadata": {
        "id": "7DP_OLx3a8mc"
      },
      "source": [
        "### Membership Operator"
      ],
      "id": "7DP_OLx3a8mc"
    },
    {
      "cell_type": "code",
      "metadata": {
        "id": "tMtvyx-Ta8md"
      },
      "source": [
        "1 in [1,2,3]\n",
        "3 not in {2,4}\n",
        "4 in ('a', 'b')"
      ],
      "id": "tMtvyx-Ta8md",
      "execution_count": null,
      "outputs": []
    },
    {
      "cell_type": "markdown",
      "metadata": {
        "id": "llr28c5aa8me"
      },
      "source": [
        "### if condition"
      ],
      "id": "llr28c5aa8me"
    },
    {
      "cell_type": "code",
      "metadata": {
        "id": "X7eBGmdka8me"
      },
      "source": [
        "if 2 > 1:\n",
        "    print(True)\n",
        "    \n",
        "if 1 in [1,2,3]:\n",
        "    print('Found')"
      ],
      "id": "X7eBGmdka8me",
      "execution_count": null,
      "outputs": []
    },
    {
      "cell_type": "code",
      "metadata": {
        "id": "0LRKKRIua8mf"
      },
      "source": [
        "if 1 > 2:\n",
        "    print ('1 is not greater than 2')\n",
        "else:\n",
        "    print('1 is less than 2')\n",
        "\n",
        "a = 3\n",
        "b = 4\n",
        "if a > b:\n",
        "    print(a,'is greater than', b)\n",
        "elif a < b:\n",
        "    print(a,'is less than', b)\n",
        "elif a == b:\n",
        "    print(a,'is equal to', b)\n",
        "else:\n",
        "    print('comparison between', a, 'and', b, 'is not defined')\n",
        "    "
      ],
      "id": "0LRKKRIua8mf",
      "execution_count": null,
      "outputs": []
    },
    {
      "cell_type": "code",
      "metadata": {
        "id": "uO58bm_0a8mf"
      },
      "source": [
        "# if conditions in a line\n",
        "y = 0\n",
        "x = 1 if y > 1 else 0\n",
        "print(x)"
      ],
      "id": "uO58bm_0a8mf",
      "execution_count": null,
      "outputs": []
    },
    {
      "cell_type": "markdown",
      "metadata": {
        "id": "jO4VKsmoa8mg"
      },
      "source": [
        "### for loop"
      ],
      "id": "jO4VKsmoa8mg"
    },
    {
      "cell_type": "code",
      "metadata": {
        "id": "RIXPWMmva8mg"
      },
      "source": [
        "for i in [1,2,3]:\n",
        "    print(i)"
      ],
      "id": "RIXPWMmva8mg",
      "execution_count": null,
      "outputs": []
    },
    {
      "cell_type": "code",
      "metadata": {
        "id": "MwJNmYxXa8mh"
      },
      "source": [
        "for i in range(10):\n",
        "    print (i*2, end=', ')\n",
        "else:\n",
        "    print('Done')\n",
        "        "
      ],
      "id": "MwJNmYxXa8mh",
      "execution_count": null,
      "outputs": []
    },
    {
      "cell_type": "code",
      "metadata": {
        "id": "9F1x-K3ia8mh"
      },
      "source": [
        "# Filter even and odd numbers from 0 to 10\n",
        "for i in range(11):\n",
        "    if i%2==0:\n",
        "        print(i, 'is even number')\n",
        "    else:\n",
        "        print(i, 'is odd number')"
      ],
      "id": "9F1x-K3ia8mh",
      "execution_count": null,
      "outputs": []
    },
    {
      "cell_type": "markdown",
      "metadata": {
        "id": "2IcDfKTua8mh"
      },
      "source": [
        "### While loop"
      ],
      "id": "2IcDfKTua8mh"
    },
    {
      "cell_type": "code",
      "metadata": {
        "id": "lxXNYWpDa8mi"
      },
      "source": [
        "i = 0\n",
        "while i < 10:\n",
        "    print(i)\n",
        "    i +=1"
      ],
      "id": "lxXNYWpDa8mi",
      "execution_count": null,
      "outputs": []
    },
    {
      "cell_type": "markdown",
      "metadata": {
        "id": "c12Oeg0Ga8mi"
      },
      "source": [
        "## Odd Even Game"
      ],
      "id": "c12Oeg0Ga8mi"
    },
    {
      "cell_type": "code",
      "metadata": {
        "id": "RMqz53Kaa8mi"
      },
      "source": [
        "instructions = '''Rules: \n",
        "1. Type numbers as asked by computer\n",
        "2. Tye 0 for even, 1 for odd\n",
        "3. If your answer is correct then you win\n",
        "4. Type \"-1\" to quit the game\n",
        "'''\n",
        "print(instructions)\n",
        "    \n",
        "for _ in range(100):\n",
        "      \n",
        "    number = int(input('Type Number: '))\n",
        "    if number == -1:\n",
        "        break\n",
        "    evenodd = int(input(f'{number} is Even/Odd Type 0/1: '))\n",
        "    \n",
        "    if number % 2 == 0 and evenodd == 0 :\n",
        "        print(f'Yes, Number {number} is even, You Won !')\n",
        "        \n",
        "    elif number % 2 == 1 and evenodd == 1 :\n",
        "        print(f'Yes, Number {number} is odd, You Won !')\n",
        "        \n",
        "    elif number % 2 == 0 and evenodd == 1 :\n",
        "        print(f'No, Number {number} is even, You Lost :(')\n",
        "        \n",
        "    elif number % 2 == 1 and evenodd == 0 :\n",
        "        print(f'No, Number {number} is odd, You Lost :(')\n",
        "        \n",
        "    else:\n",
        "        print('In valid option type 0 or 1 only, Exiting')\n",
        "        \n",
        "        break\n",
        "        \n",
        "    \n"
      ],
      "id": "RMqz53Kaa8mi",
      "execution_count": null,
      "outputs": []
    }
  ]
}